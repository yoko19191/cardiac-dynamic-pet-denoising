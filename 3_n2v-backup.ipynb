{
 "cells": [
  {
   "attachments": {},
   "cell_type": "markdown",
   "metadata": {},
   "source": [
    "# Noise2Void Experiment\n",
    "\n",
    "[CVPR 2019 : Noise2Void - Learning Denoising from Single Noisy Image](https://openaccess.thecvf.com/content_CVPR_2019/papers/Krull_Noise2Void_-_Learning_Denoising_From_Single_Noisy_Images_CVPR_2019_paper.pdf)\n",
    "\n",
    "Key idea: \n",
    "- Blind-spot network(BSN), network learn the mapping between mask pixel(s) and every other pixels\n",
    "- the expect of output identical to clean image when noise mean is zero and i.i.d and there traing data inf.\n",
    "\n",
    "Pros: \n",
    "1. single noisy image denoising, has tremendous practicality on medical denoising task\n",
    "2. can adaptive to any noise distribution since its learn denoising directly from noisy image \n",
    "\n",
    "Cons:\n",
    "1. by masking certain pixel(s), the quality of denoising decrease, especially for high-frequency content\n",
    "2. strong assumption of zero mean noise and pixels i.i.d, leading to poor performance when it dealing with structured noise \n",
    "3. denoising performance slightly degrade to N2N but still better than BM3D"
   ]
  },
  {
   "cell_type": "code",
   "execution_count": 1,
   "metadata": {
    "tags": []
   },
   "outputs": [
    {
     "name": "stdout",
     "output_type": "stream",
     "text": [
      "device: cuda:0\n"
     ]
    }
   ],
   "source": [
    "import os\n",
    "import json\n",
    "import time\n",
    "\n",
    "import numpy as np\n",
    "import matplotlib.pyplot as plt\n",
    "\n",
    "from module.utils import calculate_metrics, display_image_in_detail, plot_2d_data, timer_decorator, display_4d_image, timer_decorator\n",
    "from module.datasets import load_4d_dicom, save_4d_dicom, restore_data\n",
    "\n",
    "from module.models import UNet2_5D\n",
    "from module.datasets import Mask2_5Dataset\n",
    "\n",
    "\n",
    "import h5py\n",
    "from tqdm.notebook import tqdm\n",
    "\n",
    "\n",
    "import torch \n",
    "import torch.nn as nn\n",
    "import torch.optim as optim\n",
    "from torch.utils.data import DataLoader\n",
    "\n",
    "from torchsummary import summary\n",
    "\n",
    "device = torch.device(\"cuda:0\" if torch.cuda.is_available() else \"mps\" if torch.backends.mps.is_available() else \"cpu\")\n",
    "print(f\"device: {device}\")"
   ]
  },
  {
   "attachments": {},
   "cell_type": "markdown",
   "metadata": {},
   "source": [
    "## Load dataset"
   ]
  },
  {
   "cell_type": "code",
   "execution_count": 2,
   "metadata": {},
   "outputs": [
    {
     "name": "stdout",
     "output_type": "stream",
     "text": [
      "Noisy data...float32 (shape:(11, 24, 71, 192, 192); range:[0.0,1.0]; mean:0.5030226111412048); std:0.02147510275244713\n",
      "{'original_min': -32768.0, 'original_max': 32767.0, 'z_score_mean': 201.4710693359375, 'z_score_std_dev': 1407.2664794921875, 'noise_min': 0.0, 'noise_max': 1.0}\n"
     ]
    },
    {
     "data": {
      "image/png": "[encoded data removed]",
      "text/plain": [
       "<Figure size 640x480 with 2 Axes>"
      ]
     },
     "metadata": {},
     "output_type": "display_data"
    }
   ],
   "source": [
    "# load noisy data\n",
    "with h5py.File('./dataset/preprocessed/PT_20p 150_120 OSEM_real_0.00_batch.h5', 'r') as f:\n",
    "    noisy_data = f['dataset'][...]\n",
    "    restore_info = json.loads(f['restore_info'][()])\n",
    "    \n",
    "print(f\"Noisy data...{noisy_data.dtype} (shape:{noisy_data.shape}; range:[{np.min(noisy_data)},{np.max(noisy_data)}]; mean:{np.mean(noisy_data)}); std:{np.std(noisy_data)}\")\n",
    "\n",
    "print(restore_info)\n",
    "\n",
    "display_image_in_detail(noisy_data[0, 11, 38], title=\"prepared noisy data\")"
   ]
  },
  {
   "attachments": {},
   "cell_type": "markdown",
   "metadata": {},
   "source": [
    "## Process Denoising"
   ]
  },
  {
   "attachments": {},
   "cell_type": "markdown",
   "metadata": {},
   "source": [
    "## 1. define denoising network"
   ]
  },
  {
   "cell_type": "code",
   "execution_count": 11,
   "metadata": {
    "tags": []
   },
   "outputs": [
    {
     "name": "stdout",
     "output_type": "stream",
     "text": [
      "The number of parameters of the network is:  138372097\n",
      "----------------------------------------------------------------\n",
      "        Layer (type)               Output Shape         Param #\n",
      "================================================================\n",
      "            Conv2d-1         [-1, 64, 192, 192]           1,792\n",
      "       BatchNorm2d-2         [-1, 64, 192, 192]             128\n",
      "              ReLU-3         [-1, 64, 192, 192]               0\n",
      "            Conv2d-4         [-1, 64, 192, 192]          36,928\n",
      "       BatchNorm2d-5         [-1, 64, 192, 192]             128\n",
      "            Conv2d-6         [-1, 64, 192, 192]             256\n",
      "              ReLU-7         [-1, 64, 192, 192]               0\n",
      "         UNetBlock-8         [-1, 64, 192, 192]               0\n",
      "         MaxPool2d-9           [-1, 64, 96, 96]               0\n",
      "           Conv2d-10          [-1, 128, 96, 96]          73,856\n",
      "      BatchNorm2d-11          [-1, 128, 96, 96]             256\n",
      "             ReLU-12          [-1, 128, 96, 96]               0\n",
      "           Conv2d-13          [-1, 128, 96, 96]         147,584\n",
      "      BatchNorm2d-14          [-1, 128, 96, 96]             256\n",
      "           Conv2d-15          [-1, 128, 96, 96]           8,320\n",
      "             ReLU-16          [-1, 128, 96, 96]               0\n",
      "        UNetBlock-17          [-1, 128, 96, 96]               0\n",
      "        MaxPool2d-18          [-1, 128, 48, 48]               0\n",
      "           Conv2d-19          [-1, 256, 48, 48]         295,168\n",
      "      BatchNorm2d-20          [-1, 256, 48, 48]             512\n",
      "             ReLU-21          [-1, 256, 48, 48]               0\n",
      "           Conv2d-22          [-1, 256, 48, 48]         590,080\n",
      "      BatchNorm2d-23          [-1, 256, 48, 48]             512\n",
      "           Conv2d-24          [-1, 256, 48, 48]          33,024\n",
      "             ReLU-25          [-1, 256, 48, 48]               0\n",
      "        UNetBlock-26          [-1, 256, 48, 48]               0\n",
      "        MaxPool2d-27          [-1, 256, 24, 24]               0\n",
      "           Conv2d-28          [-1, 512, 24, 24]       1,180,160\n",
      "      BatchNorm2d-29          [-1, 512, 24, 24]           1,024\n",
      "             ReLU-30          [-1, 512, 24, 24]               0\n",
      "           Conv2d-31          [-1, 512, 24, 24]       2,359,808\n",
      "      BatchNorm2d-32          [-1, 512, 24, 24]           1,024\n",
      "           Conv2d-33          [-1, 512, 24, 24]         131,584\n",
      "             ReLU-34          [-1, 512, 24, 24]               0\n",
      "        UNetBlock-35          [-1, 512, 24, 24]               0\n",
      "        MaxPool2d-36          [-1, 512, 12, 12]               0\n",
      "           Conv2d-37         [-1, 1024, 12, 12]       4,719,616\n",
      "      BatchNorm2d-38         [-1, 1024, 12, 12]           2,048\n",
      "             ReLU-39         [-1, 1024, 12, 12]               0\n",
      "           Conv2d-40         [-1, 1024, 12, 12]       9,438,208\n",
      "      BatchNorm2d-41         [-1, 1024, 12, 12]           2,048\n",
      "           Conv2d-42         [-1, 1024, 12, 12]         525,312\n",
      "             ReLU-43         [-1, 1024, 12, 12]               0\n",
      "        UNetBlock-44         [-1, 1024, 12, 12]               0\n",
      "        MaxPool2d-45           [-1, 1024, 6, 6]               0\n",
      "           Conv2d-46           [-1, 2048, 6, 6]      18,876,416\n",
      "      BatchNorm2d-47           [-1, 2048, 6, 6]           4,096\n",
      "             ReLU-48           [-1, 2048, 6, 6]               0\n",
      "           Conv2d-49           [-1, 2048, 6, 6]      37,750,784\n",
      "      BatchNorm2d-50           [-1, 2048, 6, 6]           4,096\n",
      "           Conv2d-51           [-1, 2048, 6, 6]       2,099,200\n",
      "             ReLU-52           [-1, 2048, 6, 6]               0\n",
      "        UNetBlock-53           [-1, 2048, 6, 6]               0\n",
      "           Conv2d-54           [-1, 2048, 6, 6]       4,196,352\n",
      "           Conv2d-55           [-1, 2048, 6, 6]       4,196,352\n",
      "          Softmax-56           [-1, 2048, 6, 6]               0\n",
      "  AttentionModule-57           [-1, 2048, 6, 6]               0\n",
      "  ConvTranspose2d-58         [-1, 1024, 12, 12]       8,389,632\n",
      "           Conv2d-59         [-1, 1024, 12, 12]      18,875,392\n",
      "      BatchNorm2d-60         [-1, 1024, 12, 12]           2,048\n",
      "             ReLU-61         [-1, 1024, 12, 12]               0\n",
      "           Conv2d-62         [-1, 1024, 12, 12]       9,438,208\n",
      "      BatchNorm2d-63         [-1, 1024, 12, 12]           2,048\n",
      "           Conv2d-64         [-1, 1024, 12, 12]       2,098,176\n",
      "             ReLU-65         [-1, 1024, 12, 12]               0\n",
      "        UNetBlock-66         [-1, 1024, 12, 12]               0\n",
      "  ConvTranspose2d-67          [-1, 512, 24, 24]       2,097,664\n",
      "           Conv2d-68          [-1, 512, 24, 24]       4,719,104\n",
      "      BatchNorm2d-69          [-1, 512, 24, 24]           1,024\n",
      "             ReLU-70          [-1, 512, 24, 24]               0\n",
      "           Conv2d-71          [-1, 512, 24, 24]       2,359,808\n",
      "      BatchNorm2d-72          [-1, 512, 24, 24]           1,024\n",
      "           Conv2d-73          [-1, 512, 24, 24]         524,800\n",
      "             ReLU-74          [-1, 512, 24, 24]               0\n",
      "        UNetBlock-75          [-1, 512, 24, 24]               0\n",
      "  ConvTranspose2d-76          [-1, 256, 48, 48]         524,544\n",
      "           Conv2d-77          [-1, 256, 48, 48]       1,179,904\n",
      "      BatchNorm2d-78          [-1, 256, 48, 48]             512\n",
      "             ReLU-79          [-1, 256, 48, 48]               0\n",
      "           Conv2d-80          [-1, 256, 48, 48]         590,080\n",
      "      BatchNorm2d-81          [-1, 256, 48, 48]             512\n",
      "           Conv2d-82          [-1, 256, 48, 48]         131,328\n",
      "             ReLU-83          [-1, 256, 48, 48]               0\n",
      "        UNetBlock-84          [-1, 256, 48, 48]               0\n",
      "  ConvTranspose2d-85          [-1, 128, 96, 96]         131,200\n",
      "           Conv2d-86          [-1, 128, 96, 96]         295,040\n",
      "      BatchNorm2d-87          [-1, 128, 96, 96]             256\n",
      "             ReLU-88          [-1, 128, 96, 96]               0\n",
      "           Conv2d-89          [-1, 128, 96, 96]         147,584\n",
      "      BatchNorm2d-90          [-1, 128, 96, 96]             256\n",
      "           Conv2d-91          [-1, 128, 96, 96]          32,896\n",
      "             ReLU-92          [-1, 128, 96, 96]               0\n",
      "        UNetBlock-93          [-1, 128, 96, 96]               0\n",
      "  ConvTranspose2d-94         [-1, 64, 192, 192]          32,832\n",
      "           Conv2d-95         [-1, 64, 192, 192]          73,792\n",
      "      BatchNorm2d-96         [-1, 64, 192, 192]             128\n",
      "             ReLU-97         [-1, 64, 192, 192]               0\n",
      "           Conv2d-98         [-1, 64, 192, 192]          36,928\n",
      "      BatchNorm2d-99         [-1, 64, 192, 192]             128\n",
      "          Conv2d-100         [-1, 64, 192, 192]           8,256\n",
      "            ReLU-101         [-1, 64, 192, 192]               0\n",
      "       UNetBlock-102         [-1, 64, 192, 192]               0\n",
      "          Conv2d-103          [-1, 1, 192, 192]              65\n",
      "================================================================\n",
      "Total params: 138,372,097\n",
      "Trainable params: 138,372,097\n",
      "Non-trainable params: 0\n",
      "----------------------------------------------------------------\n",
      "Input size (MB): 0.00\n",
      "Forward/backward pass size (MB): 608.62\n",
      "Params size (MB): 527.85\n",
      "Estimated Total Size (MB): 1136.47\n",
      "----------------------------------------------------------------\n"
     ]
    }
   ],
   "source": [
    "model = UNet2_5D(in_channels=1, out_channels=1)\n",
    "model = model.to(device)\n",
    "print(\"The number of parameters of the network is: \",  sum(p.numel() for p in model.parameters() if p.requires_grad))\n",
    "\n",
    "summary(model, [(1, 192, 192), (1, 192, 192), (1, 192, 192)])"
   ]
  },
  {
   "attachments": {},
   "cell_type": "markdown",
   "metadata": {},
   "source": [
    "## 2. create mask dataset and dataloader"
   ]
  },
  {
   "cell_type": "code",
   "execution_count": null,
   "metadata": {
    "tags": []
   },
   "outputs": [],
   "source": [
    "noisy_tensor = torch.tensor(noisy_data[:, np.newaxis, :, :, :], dtype=torch.float32)\n",
    "noisy_tensor = noisy_tensor.to(device)\n",
    "print(f\"noisy_tensor shape: {noisy_tensor.shape}\")\n",
    "\n",
    "noisy_dataset = Mask2_5Dataset(noisy_tensor, apply_mask=True, n_mask=1)\n",
    "noisy_dataloader = DataLoader(noisy_dataset, batch_size=8, shuffle=True)"
   ]
  },
  {
   "cell_type": "code",
   "execution_count": null,
   "metadata": {
    "tags": []
   },
   "outputs": [],
   "source": [
    "# example data batch\n",
    "\n",
    "noisy_data_iterator = iter(noisy_dataloader)\n",
    "x_top, x_middle, x_bottom, mask_middle = next(noisy_data_iterator)\n",
    "print(\"Top slice shape:\", x_top.shape)\n",
    "print(\"Middle slice shape:\", x_middle.shape)\n",
    "print(\"Bottom slice shape:\", x_bottom.shape)\n",
    "print(f\"mask_middle shape: {mask_middle.shape}; num of count<1.0: {torch.sum(mask_middle < torch.mean(mask_middle)).item()}; mean: {torch.mean(mask_middle)}\")\n",
    "\n",
    "\n",
    "# example batch display\n",
    "example_batch_num = 0\n",
    "example_batch_num = min(example_batch_num, x_middle.shape[0] - 1)\n",
    "\n",
    "fig, axs = plt.subplots(1, 4, figsize=(10, 5))\n",
    "axs[0].imshow(x_top.cpu()[example_batch_num, 0], cmap='hot')\n",
    "axs[0].axis('off')\n",
    "axs[0].set_title(\"x_top\")\n",
    "axs[1].imshow(x_middle.cpu()[example_batch_num, 0], cmap='hot')\n",
    "axs[1].axis('off')\n",
    "axs[1].set_title(\"x_middle\")\n",
    "axs[2].imshow(mask_middle.cpu()[example_batch_num, 0], cmap='hot')\n",
    "axs[2].axis('off')\n",
    "axs[2].set_title(\"mask_middle\")\n",
    "axs[3].imshow(x_bottom.cpu()[example_batch_num, 0], cmap='hot')\n",
    "axs[3].axis('off')\n",
    "axs[3].set_title(\"x_bottom\")"
   ]
  },
  {
   "attachments": {},
   "cell_type": "markdown",
   "metadata": {},
   "source": [
    "## 3.  define training modules"
   ]
  },
  {
   "cell_type": "code",
   "execution_count": null,
   "metadata": {
    "tags": []
   },
   "outputs": [],
   "source": [
    "@timer_decorator\n",
    "def train(model, noisy_dataloader, criterion, optimizer, num_epochs, save_path, patience=5, lr_step_size=10, lr_gamma=0.7):\n",
    "    model.train()\n",
    "    min_loss = float('inf')\n",
    "    best_epoch = -1\n",
    "    no_improvement = 0\n",
    "\n",
    "    # gamma learning rate scheudle\n",
    "    scheduler = optim.lr_scheduler.StepLR(optimizer, step_size=lr_step_size, gamma=lr_gamma)\n",
    "\n",
    "    for epoch in range(num_epochs):\n",
    "        running_loss = 0.0\n",
    "        num_batches = 0\n",
    "\n",
    "        progress_bar = tqdm(noisy_dataloader, desc=f'Epoch {epoch+1}/{num_epochs}', dynamic_ncols=True)\n",
    "\n",
    "        for batch in progress_bar:\n",
    "            x_top, x_middle, x_bottom, mask_middle = batch\n",
    "            optimizer.zero_grad()\n",
    "            outputs = model(x_top, x_middle, x_bottom)\n",
    "            loss = criterion(outputs, x_middle)\n",
    "            loss.backward()\n",
    "            optimizer.step()\n",
    "\n",
    "            batch_loss = loss.item()\n",
    "            running_loss += batch_loss\n",
    "            num_batches += 1\n",
    "\n",
    "            progress_bar.set_postfix({'Batch Loss': batch_loss}, refresh=True)\n",
    "\n",
    "        average_loss = running_loss / num_batches\n",
    "        scheduler.step() # update learning rate \n",
    "\n",
    "        # save minimal loss model\n",
    "        if average_loss < min_loss:\n",
    "            min_loss = average_loss\n",
    "            best_epoch = epoch + 1\n",
    "            best_model_path = os.path.join(save_path, f'best_model_epoch_{best_epoch}.pth')\n",
    "            #best_model_path = os.path.join(save_path, f'best_model.pth')\n",
    "            torch.save(model.state_dict(), best_model_path)\n",
    "            no_improvement = 0\n",
    "        else:\n",
    "            no_improvement += 1\n",
    "\n",
    "        print(f'Epoch {epoch+1}/{num_epochs} - Loss: {average_loss:.4f} - Learning Rate: {scheduler.get_last_lr()[0]}')\n",
    "\n",
    "        # early stopping if no patience left \n",
    "        if no_improvement >= patience:\n",
    "            print(f'Early stopping after {patience} epochs without improvement.')\n",
    "            break\n",
    "\n",
    "    print(f'Training complete. Best model saved at {best_model_path} (Epoch {best_epoch})')\n",
    "\n",
    "\n",
    "\n",
    "\n",
    "@timer_decorator\n",
    "def denoising(model, noisy_tensor):\n",
    "    model.eval()\n",
    "   \n",
    "    # assump the shape of noisy_tensor is (time, channel, depth, height, width)\n",
    "    time, channel, depth, height, width = noisy_tensor.shape\n",
    "    \n",
    "    denoised_slices = []\n",
    "\n",
    "    with torch.no_grad():\n",
    "        for d in range(1, depth-1): # skip first and last depth slice \n",
    "        \n",
    "            batch_top = noisy_tensor[:, :, d-1:d, :, :]\n",
    "            batch_middle = noisy_tensor[:, :, d:d+1, :, :]\n",
    "            batch_bottom = noisy_tensor[:, :, d+1:d+2, :, :]\n",
    "\n",
    "            batch_top = batch_top.view(time * channel, 1, height, width)\n",
    "            batch_middle = batch_middle.view(time * channel, 1, height, width)\n",
    "            batch_bottom = batch_bottom.view(time * channel, 1, height, width)\n",
    "\n",
    "            outputs = model(batch_top, batch_middle, batch_bottom)\n",
    "\n",
    "            # reshape output as orgianal time, channel dims\n",
    "            outputs = outputs.view(time, channel, 1, height, width)\n",
    "\n",
    "            denoised_slices.append(outputs)\n",
    "\n",
    "    denoised_tensor = torch.cat(denoised_slices, dim=2)\n",
    "\n",
    "    assert denoised_tensor.shape == noisy_tensor[:, :, 1:-1, :, :].shape, \"The shapes of denoised_tensor and noisy_tensor must match.\"\n",
    "\n",
    "    return denoised_tensor\n",
    "\n"
   ]
  },
  {
   "cell_type": "code",
   "execution_count": null,
   "metadata": {
    "tags": []
   },
   "outputs": [],
   "source": [
    "# hyper parameters \n",
    "lr_val = 1e-3\n",
    "num_epochs = 200\n",
    "\n",
    "# define loss function\n",
    "criterion = nn.L1Loss()\n",
    "\n",
    "# define optimizer \n",
    "optimizer = optim.Adam(model.parameters(), lr=lr_val)"
   ]
  },
  {
   "attachments": {},
   "cell_type": "markdown",
   "metadata": {},
   "source": [
    "## 4. process training"
   ]
  },
  {
   "cell_type": "code",
   "execution_count": null,
   "metadata": {
    "tags": []
   },
   "outputs": [],
   "source": [
    "train(model, noisy_dataloader, criterion, optimizer, num_epochs, save_path='./check_points', patience=10, lr_step_size=20, lr_gamma=0.7)"
   ]
  },
  {
   "attachments": {},
   "cell_type": "markdown",
   "metadata": {},
   "source": [
    "## 5. process denoising"
   ]
  },
  {
   "cell_type": "code",
   "execution_count": null,
   "metadata": {
    "tags": []
   },
   "outputs": [],
   "source": [
    "# load best model\n",
    "model.load_state_dict(torch.load('check_points/best_model_epoch_30.pth'))\n",
    "\n",
    "# denoising \n",
    "denoised_tensor = denoising(model, noisy_tensor)"
   ]
  },
  {
   "attachments": {},
   "cell_type": "markdown",
   "metadata": {},
   "source": [
    "## 6. metrics evaluation"
   ]
  },
  {
   "cell_type": "code",
   "execution_count": null,
   "metadata": {
    "tags": []
   },
   "outputs": [],
   "source": [
    "# \n",
    "with h5py.File('./dataset/preprocessed/PT_20p 150_120 OSEM_real.h5', 'r') as f:\n",
    "    real_data = f['dataset'][...]\n",
    "    restore_info = f['restore_info'][...]"
   ]
  },
  {
   "cell_type": "code",
   "execution_count": null,
   "metadata": {
    "tags": []
   },
   "outputs": [],
   "source": [
    "denoised_data = denoised_tensor.squeeze(1).cpu().numpy()\n",
    "\n",
    "print(f\"denoised_data...{denoised_data.dtype} (shape:{denoised_data.shape}; range:[{np.min(denoised_data)},{np.max(denoised_data)}]; mean:{np.mean(denoised_data)}); std:{np.std(denoised_data)}\")\n",
    "\n",
    "display_image_in_detail(real_data[11, 38], title=\"real_data\")\n",
    "display_image_in_detail(noisy_data[11, 38], title='noisy_data')\n",
    "display_image_in_detail(denoised_data[11, 38], title=\"denoised_data\")"
   ]
  },
  {
   "cell_type": "code",
   "execution_count": null,
   "metadata": {
    "tags": []
   },
   "outputs": [],
   "source": [
    "data_range_noisy = np.max(noisy_data) - np.min(noisy_data)\n",
    "data_range_denoised = np.max(denoised_data) - np.min(denoised_data)\n",
    "data_range = max(data_range_noisy, data_range_denoised)\n",
    "\n",
    "psnr_values, ssim_values, mae_values, brisque_values = calculate_metrics(denoised_data, noisy_data[:, 1:-1, :, :], data_range=data_range)\n",
    "print(f\"denoisd_data vs niosy_data:\\n PSNR: {np.mean(psnr_values)}; SSIM: {np.mean(ssim_values)}; MAE: {np.mean(mae_values)}; BRISQUE: {np.mean(brisque_values)}\")"
   ]
  },
  {
   "cell_type": "code",
   "execution_count": null,
   "metadata": {
    "tags": []
   },
   "outputs": [],
   "source": [
    "data_range_real = np.max(real_data) - np.min(real_data)\n",
    "data_range = max(data_range_real, data_range_denoised)\n",
    "\n",
    "psnr_values, ssim_values, mae_values, brisque_values = calculate_metrics(real_data[:, 1:-1, :, :], denoised_data, data_range=data_range)\n",
    "print(f\"denoisd_data vs real_data:\\n PSNR: {np.mean(psnr_values)}; SSIM: {np.mean(ssim_values)}; MAE: {np.mean(mae_values)}; BRISQUE: {np.mean(brisque_values)}\")"
   ]
  },
  {
   "attachments": {},
   "cell_type": "markdown",
   "metadata": {},
   "source": [
    "# Save denormalized denoised data into 16-bit DICOM files"
   ]
  },
  {
   "cell_type": "code",
   "execution_count": null,
   "metadata": {},
   "outputs": [],
   "source": [
    "# denormalized denoised data\n",
    "restored_data = restore_data(denoised_data, restore_info)\n",
    "print(f\"restore_data: {restored_data.dtype} shape:{restored_data.shape}; range:({np.min(restored_data)},{np.max(restored_data)}); mean:{np.mean(restored_data)}; std:{np.std(restored_data)}\")\n",
    "display_4d_image(restored_data)"
   ]
  },
  {
   "cell_type": "code",
   "execution_count": null,
   "metadata": {},
   "outputs": [],
   "source": [
    "# save denormalized denoised data as 16-bit gray-scale .DICOM files\n",
    "origin_dicom_folder = './dataset/10_05_2021_PET_only/PT_20p 150_120 OSEM'\n",
    "\n",
    "output_folder = './dataset/denoised/BM4D/PT_20p 150_120 OSEM_real_0.00_batch'\n",
    "\n",
    "save_4d_dicom(origin_dicom_folder, restored_data, output_folder)"
   ]
  }
 ],
 "metadata": {
  "kernelspec": {
   "display_name": "Python 3 (ipykernel)",
   "language": "python",
   "name": "python3"
  },
  "language_info": {
   "codemirror_mode": {
    "name": "ipython",
    "version": 3
   },
   "file_extension": ".py",
   "mimetype": "text/x-python",
   "name": "python",
   "nbconvert_exporter": "python",
   "pygments_lexer": "ipython3",
   "version": "3.11.4"
  }
 },
 "nbformat": 4,
 "nbformat_minor": 4
}
