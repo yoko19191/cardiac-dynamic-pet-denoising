{
 "cells": [
  {
   "cell_type": "markdown",
   "metadata": {},
   "source": [
    "# Zero-Shot Noise2Noise Experiment\n",
    "\n",
    "[CVPR 2023: Zero-Shot Noise2Noise: Efficient Image Denoising without any Data](https://openaccess.thecvf.com/content/CVPR2023/papers/Mansour_Zero-Shot_Noise2Noise_Efficient_Image_Denoising_Without_Any_Data_CVPR_2023_paper.pdf)\n",
    "\n",
    "extend Zero-shot noise2noise experiment to 2.5D Network\n"
   ]
  },
  {
   "cell_type": "code",
   "execution_count": null,
   "metadata": {
    "tags": []
   },
   "outputs": [],
   "source": [
    "import os\n",
    "import copy\n",
    "import json\n",
    "import time\n",
    "\n",
    "import numpy as np\n",
    "import matplotlib.pyplot as plt\n",
    "\n",
    "from module.utils import calculate_metrics, display_image_in_detail, plot_2d_data, timer_decorator, display_4d_image, timer_decorator\n",
    "from module.datasets import load_4d_dicom, save_4d_dicom, restore_data\n",
    "\n",
    "from module.models import CNN, DnCNN, UNet\n",
    "# from module.datasets import Nb2NbDataset\n",
    "from module.loss import SSIMLoss, SSIM_MAELoss, SSIM_MSELoss\n",
    "\n",
    "\n",
    "import h5py\n",
    "from tqdm.notebook import tqdm\n",
    "\n",
    "\n",
    "import torch \n",
    "import torch.nn as nn\n",
    "import torch.optim as optim\n",
    "import torch.nn.functional as F\n",
    "from torch.utils.data import Dataset, DataLoader, random_split, Subset\n",
    "\n",
    "from torchsummary import summary\n",
    "\n",
    "device = torch.device(\"cuda:0\" if torch.cuda.is_available() else \"mps\" if torch.backends.mps.is_available() else \"cpu\")\n",
    "print(f\"device: {device}\")"
   ]
  },
  {
   "cell_type": "markdown",
   "metadata": {},
   "source": [
    "## 0. Load preprocessed data"
   ]
  },
  {
   "cell_type": "code",
   "execution_count": null,
   "metadata": {
    "tags": []
   },
   "outputs": [],
   "source": [
    "# load noisy data\n",
    "with h5py.File('./dataset/preprocessed/PT_20p 150_120 OSEM_poisson_0.50_batch.h5', 'r') as f:\n",
    "    noisy_data = f['dataset'][...][0]\n",
    "    restore_info = json.loads(f['restore_info'][()])\n",
    "    \n",
    "print(f\"Noisy data...{noisy_data.dtype} (shape:{noisy_data.shape}; range:[{np.min(noisy_data)},{np.max(noisy_data)}]; mean:{np.mean(noisy_data)}); std:{np.std(noisy_data)}\")\n",
    "\n",
    "print(restore_info)\n",
    "\n",
    "display_image_in_detail(noisy_data[11, 38], title=\"prepared noisy data\")"
   ]
  },
  {
   "cell_type": "code",
   "execution_count": null,
   "metadata": {
    "tags": []
   },
   "outputs": [],
   "source": [
    "#\n",
    "val_tensor = torch.tensor(noisy_data, dtype=torch.float32).unsqueeze(2)\n",
    "print(f\"Validation tensor...{val_tensor.dtype} (shape:{val_tensor.shape}; range:[{torch.min(val_tensor)},{torch.max(val_tensor)}]; mean:{torch.mean(val_tensor)}); std:{torch.std(val_tensor)}\")"
   ]
  },
  {
   "cell_type": "markdown",
   "metadata": {},
   "source": [
    "## 1. Import a simple network"
   ]
  },
  {
   "cell_type": "code",
   "execution_count": null,
   "metadata": {
    "tags": []
   },
   "outputs": [],
   "source": [
    "in_chan = val_tensor.shape[2]\n",
    "out_chan = 1\n",
    "\n",
    "model = CNN(n_chan=in_chan, chan_embed=48, num_hidden_layers=3).to(device)\n",
    "#model = DnCNN(in_chan, out_chan).to(device)\n",
    "#model = UNet(in_chan, out_chan).to(device)\n",
    "\n",
    "print(\"The number of parameters of the network is: \",  sum(p.numel() for p in model.parameters() if p.requires_grad))\n",
    "\n",
    "summary(model, [(1, 192, 192)])"
   ]
  },
  {
   "cell_type": "markdown",
   "metadata": {},
   "source": [
    "## 2. Define Method Modules\n",
    "\n"
   ]
  },
  {
   "cell_type": "markdown",
   "metadata": {},
   "source": [
    "the **image pair downsampler** which outputs two downsampled images of half the spatial resolution by averaging diagonal pixels in non-overlapping patches, as shown in the below figure.\n",
    "\n",
    "It is realised by convolving the image with the 2 fixed kernels: $k_1 = \\begin{bmatrix}0 & 0.5 \\\\0.5 & 0\\end{bmatrix}$ and $k_2 = \\begin{bmatrix}0.5 & 0 \\\\0 & 0.5\\end{bmatrix}$, where the convolution has stride=2, and is applied to each image channel separately.\n",
    "\n",
    "\n",
    "![IPD(2).jpg](data:image/jpeg;base64,/9j/4AAQSkZJRgABAQEBLAEsAAD/2wBDAAgGBgcGBQgHBwcJCQgKDBQNDAsLDBkSEw8UHRofHh0aHBwgJC4nICIsIxwcKDcpLDAxNDQ0Hyc5PTgyPC4zNDL/2wBDAQkJCQwLDBgNDRgyIRwhMjIyMjIyMjIyMjIyMjIyMjIyMjIyMjIyMjIyMjIyMjIyMjIyMjIyMjIyMjIyMjIyMjL/wAARCAEAAgIDASIAAhEBAxEB/8QAHAAAAgMBAQEBAAAAAAAAAAAAAAYEBQcIAwEC/8QAWRAAAAUCAQQLCwcJBgQFBQAAAAECAwQFEQYHEiExExYXNkFRVnSTstEUFSI1VFVhcXOx0jdykZKUorMYMjM0UlOBo6RCYpWhwtMjJEPhJSdFdcFERmOCg//EABkBAQEBAQEBAAAAAAAAAAAAAAADBAIBBf/EADIRAAIAAgcGBgMBAQEBAQAAAAABAgMEExQzUnGRETFRobHREiEyNEGBQ2HBYuEiIyT/2gAMAwEAAhEDEQA/ALvBeD0Yoo702RVZ7K0SFNElteixER30+sMm5XF8+VP65dg/WSTetK56vqpD8Po0qlTYJ0UML8kfNolFkxyYYoofNmf7lcXz5U/rl2A3K4vnyp/XLsGgAELZPxGixSMJn+5XF8+VP65dgNyuL58qf1y7BoAAtk/ELFIwmf7lcXz5U/rl2A3LIvnyqfXLsGgAMLZPxCxSMJxnMxvU4s6RHT4RNOKQRm6u5kRmXGPDb9VP2S6VfaF+reOJvOHOsYhhbZ+LoLFIw9Rs2/VT9kulX2g2/VT9kulX2hTAFtn4ugsUjD1Gzb9VP2S6VfaDb9VP2S6VfaFMAW2fi6CxSMPUbNv1U/ZLpV9onUjGFRqVSbiuGaUqIzM0urvoIz4wii5wv4/Y+avqmK0elzopsMLi8m0RpFEkwyYolD5pM6XomTpiqUODPcrNRQuQwh1SUrKxGZXsQn7lcXz5U/rl2BmwjvPo/NG+qQuhzMpc5RtKL5O5VDkOBNw/Bn+5XF8+VP65dgNyuL58qf1y7BoABxbJ+I7sUjCZ/uVxfPlT+uXYDcri+fKn9cuwaAALZPxCxSMJn+5XF8+VP65dgXsc4MRhTBdSrkaqz33oiUqS26vwVXWlOm2nhGwhFyx/JLX/AGbf4qAtk/ELFIwnM236qcRdKvtBt+qn7JdKvtCmALbPxdBYpGHqNm36qfsl0q+0G36qfsl0q+0KYAts/F0FikYeo2bfqp+yXSr7Qbfqp+yXSr7QpgC2z8XQWKRh6jZt+qn7JdKvtDbk9xJOrOKYKXlqSluWxoS4o73Xw3P0DJhoGSXfVG55H64vRqTNmTPDE9q2PoyFJosqXL8UK2PauqOvwAAPnH0QAAAAAAAAAAAAAAAAAAAAAAABl9WPENZylVGjU2vv09lmOh5JFpSXgpuRF6TVcdy4PG357NhzFF4TULlxguXGM72m415bu9GfaDabjXlu70Z9o7q4Ma5nPjiwmiXLjBcuMZ3tNxry3d6M+0G03GvLd3oz7Qq4Ma5jxxYTRLlxguXGM72m415bu9GfaDabjXlu70Z9oVcGNcx44sJoly4wXLjGd7Tca8t3ejPtBtNxry3d6M+0KuDGuY8cWE0S5cYLlxjOUYQxo4RmWNndCjT+jPgO3GP1tNxry3d6M+0KqHGufYeN4TRLlxguXGM72m415bu9GfaDabjXlu70Z9oVcGNcx44sJoly4wXLjGd7Tca8t3ejPtBtNxry3d6M+0KuDGuY8cWE0S5cYLlxjO9puNeW7vRn2g2m415bu9GfaFXBjXMeOLCaJcuMAyquUPGNCokupuYxfdRHRnm2lBkatJFrv6Q94RkvzMI0qTJdU6+5GQpbizuajtrMeRy/DD4k9p7DHtexrYXQAAEjsQckm9aVz1fVSH4IOSTetK56vqpD8NNM9xHmZaF7eDIAACHjWlUZ6oomYlxhKptPNskMwW5pRUKUV85RmXhLPSXqGY1D4AZLkxrCU43xBh6nV56s0NllqTDeee2ZTZnYlIJfCVz/AMvWNaAAAwAMAcGVbxxN5w51jEMTKt44m84c6xiGAAtYc8T4Zp9JwFhGsRtm7rqrb6pOeu6boURFYraNYTC1jbKniGJhvJJgWWdHiVCpKakJirmI2Rpgs8s9WZqUo/BtfVpAGJgGq4nKBjPJS1jBFMhwKxBn9xTDiNE2h9JkRko0lw+En/P0WyoAAucL+P2Pmr6pimFzhfx+x81fVMXot9BmupClXEeT6HZmEd59H5o31SF0KXCO8+j80b6pC6HE28izZ3Ju4ckAB8URmgyJWaZloO2oYtiGk4Xp0OaU7KRUF4kabWtLyqrmqQ6RGZJ2JOhJXIizdYmUNqAFbJxWZeIMnlGqc9zZJTzJk6u1s80qNNz9J5tw0gACLlj+SWv+zb/FQHoIuWP5Ja/7Nv8AFQAOOgAAALvB9LjVvGNHpczP7mly22XMw7KzTOx2MfnFlMj0bF9YpkTO7niTHWW89V1ZqVGRXPh1Cfk3+UnDn/uDPWD5iTKLCoGUKqQIuF6S7ARPcKeqXHJ16Uo1nsh55/mlrzS1F/kAMbAHbKrhuFhjHsuHTU5kF5CJLDf7CVlpSXoIyO3osEkAA0DJLvqjc8j9cZ+NAyS76o3PI/XGqh3yyfRmWmXLzXVHX4AAGU1AAAAAAAAAAAAAAAAAAAAAAAz2nfLhWOYJ9zY0IZ7TvlwrHME+5sWk7osuxxH8ZmhAAIVYlNwqJPlOy+5G2Y7jipGZnbERJM8/N4ba7cNhE7JoBnWE501GM4kFUiWqJIoCZZplPm4t1wnUpJ1SbmSFKJR3SkzLVxBoVW5tQpbE6gU9malx1ba0ypCoxpzFKSZ/mKM/CSZWsQAvRVy67GhYgp1Gdbf7oqCHVsrSkjR/wyI1EZ3uR2MuDhGdUGv4kpGSeVOapUUmosSW81JKYbi88nF2u3mFoI7/ANrUn02FkqNGZx3gZ+NOflpfhzF7K7IU5st2mz2QrnYr34LF6NAA0cAhU6qRqomSqMa7R5C4689Bp8NB2PXwekTQB4xf0a/aL6xj2HjF/Rr9ovrGPYeveeLcAAt4xlJYiU5juySy5JntNIZjWJco9Jm1nXLMSZEZmq5WIj47HS4VxFIiUislMbmzlxKxJjMMRiVJcJtNjzSUdjUSbmVz06i12IeHo/AGc5QKzUahgKbKpcGLIo8mG28iYcxTbllKSehvYz9GtRa/QJdZrVbKoUCm1aK1SY1RqJsOuxZpuGtJNKWlGfmINBrWRJ0aTK+krgBnp1djVOq1SnNNPofpriG3tkSREZrTnpNNjO5WMuIWgz3D8hmiYrxsaG5cokzIqW2m7vOrM4yTzSufBp1noItYdaRVYtbpbFRhms2HiOxOINCkmRmlSVJPSRkZGRlxkAKbKDvCrHsP9RD3wTvIo3NEe4eGUHeFWPYf6iHvgneRRuaI9wt+H7/hP8n0X4AAESgg5JN60rnq+qkPwQckm9aVz1fVSH4aaZ7iPMy0L28GQDJa1BnUPKzOxFPwvNxBTZURtqGuIyl9cRSSLOTmKPRc7nf+96TGtAGY1GW4Jp9cVlRrdbqVAVSYsyntEwi5KIiJRERKMtGfZNzItVxaQ3q/GyrR4dSq/dEeTTJD5RGW8xlrNdQlNi1qVYzuoz4dFi0B+GdSdtS8oUauIwk8qNHiOwvGDBGslOJUThadVk6tekAaKAwAMAcGVbxxN5w51jEMTKt44m84c6xiGAAtY2CRtVxTk1wnQ5GJI1OrEJh5TanjuyRmvwkOmWlBmREZH6D4yGPgAGm4pqVEw3k4jYKo9VYq0t+Z3bUJcYj2EjIrJQk+HUnT6PTYQH2aBKyVTJVOo5MSYtQjMqmPOZ7zpqbWa/QlNyKySLUWkzMII0WDtWbyfy6I7i1lEmXKYmH/AOHvmTZoQojQZ20ndWstGgAZ0LnC/j9j5q+qYphc4X8fsfNX1TF6LfQZrqQpVxHk+h2ZhHefR+aN9UhdClwjvPo/NG+qQuhxNvIs2dybuHJESqMSJVJmR4r2wyHWFoadvbMWaTIlfwOxjG8MsVajYNXhZvJ5LOvGh1pya422UZw1Gf8AxFPGdzsR6ivqsQ28AmUM+wNh6qFklo1HkSZ1FlIJWz7GlKXkp2RZ5pGojzTMjLTa5D1wW9Pi4wxLQzqkyqUyAUc2n5i9kcadWkzW3n2LOsVj9Fxe4xdxC3h11OF4qH6m4om0qU4lOwpO91lnGRGZcBHwnw2sK3AseoUqL3qeww/TIyEqdVLfntSHJLxmWcpZp0mtWkzM9Gi3EAHEIuWP5Ja/7Nv8VAegi5Y/klr/ALNv8VAA46AAAAYsBzI1Px9Qpct5DEdmc0tx1Z2ShJK0mZ8QfKzhzBOJ8Yy68zjWDFpz0tbs2NKuT5HnHnbFbQtKtaTLURlrMhkIAA+4wxzArmUaXXW6UxOgttkxDjy84kGSSslakkZGem55pnw6QYxagS8FYdrveqHS6nOcfStmEjY23mUGRJczLnm6blctekUGD2cPO4iZPE8pxiltka1khClG6ZakHmkZpI+Ey4C4L3FrjuTT6rJKqM4nj1KQZpZRDjwHY7cZlJHmpRnaCQnQRFr034wAmDQMku+qNzyP1xn40DJLvqjc8j9caqHfLJ9GZaZcvNdUdfgAAZTUAAAAAAAAAAAAAAAAAAAAAADPad8uFY5gn3NjQhntO+XCscwT7mxaTuiy7HEfxmaEPw602+ytl5tLjTiTStCyuSiPQZGXCQ/Yjz4TVRguxH1PJadKyjZdU0v+CkmRl/AxE7IELDFCprsZ6FSIbDsVKkMrbZIlISrWRH6R54Up8ml0BESY2TbxPvrNJKJRWW8tadJehRCHtDo/lFZ/xmV/uD4vA1FbQpa5VYSlJXMzrUoiIukADBGgxIcMokaM01GK9mkIIk6TMz0ekzP6RWwsJYdprzT0KiQGHWVKW0tthJG2atebo0fwCvBhYIqU5mHErlSdffSpTBFWZZE8SdZtqNdl2/umYu9odH8orP8AjMr/AHABLw3T5VOTVClNkjuiovyG7KJV0LMjIztqP0C8CynAtISojKRWbkd9NYlf7gZgB4xf0a/aL6xj2HjF/Rr9ovrGPYeveeLcQqnSadWYpRqlCYlspWTiUPIJREotRlxH6RVVCmqpMWQeHaIx3RNcLuk2HERzta2dcy0qtoL13FhV6HEraWUy3JiCaMzT3NMdYvfj2NRX1cIqtodH8orP+Myv9weHpaRaezJw8zT51MYaYNpLaoVydQhJak3tptYhIqVMgViCuFUobMuMuxqaeQSkmZajsfCXGFio4WwzSIapdQqVUjMEZJz3a3KIjM9BEX/E0mfARaTHjSqDhStHITT6nVnnIyiQ+334mJW2Zlcs5KlkZXLVctIAuX6S1QoT7uG6HE7tezEK2PMZM0louajLTYtRGJtBYdjUZhl2CmEpN/8AgE9sttJ6TVYrmes/SYqtodH8orP+Myv9wS6bhSnUqciXHeqSnUEZET9SfeRpK2lK1mR/QAIuUHeFWPYf6iHvgneRRuaI9w8MoO8Ksew/1EPfBO8ijc0R7hb8P3/Cf5PovwAAIlBBySb1pXPV9VIfggZJN60rnq+qkP8AcuMaaZ7iPMy0L28GQABcuMFy4xmNQABcuMFy4wAAMFy4x8uXGAODat44m84c6xiGJtWL/wAYm84c6xiFY+IAAAWPiBY+IAAAWPiBY+IAAucL+P2Pmr6pimsfELnC/j9j5q+qYvRb6DNdSFKuI8n0OzMI7z6PzRvqkLoUuETLafR9P/0jfVIXVy4xxNvIs2dybuHJAAFy4wXLjEygABcuMFy4wABFyx/JLX/Zt/ioD1cuMIuWI/8Aymr/ALNv8VAA46APtjvqHyx8QAAAsfECx8QAAAsfECx8QABoGSXfVG55H64z+x8Q0HJLvqjc8j9caqHfLJ9GZaZcvNdUdfAAAZTUAAAAAPhmSUmozIiLSZnwD6INa8RVHmznVMewra9h43sR7d3RPKmOkLtB3dE8qY6Qu0Z/hPBNEq+GYk2Ww4b7hKzjS6aS0KMi0eohdbm+HPJ3umUNMcuTDE4XE/L9f9JQxzIkmktf+DN3dE8qY6Qu0Hd0TypjpC7Qs7m+HPJ3umUDc3w55O90yhz4ZGJ6f9Pdszgtf+DDJqsKLEekKkNqS0g1mlK0mZkRXsWnWPKk1+mVxnZIEpDhkV1NnoWn1pPSF6Tk2oRxXijMuJkZh7EanlWJVtBn6Lj9YeyfwaQ61LlOrlTEWNKiM0IQfoItJ/x+geuGj+BtRPbkeeKb4t3kOIz2nfLhWOYJ9zY0IZ3AWSMt1YUd7dwJLQkz4G+IcSd0WXY6j+MzRADx7pb4neiV2A7pb4neiV2CWxlNp7D8uNodaW24hK0LI0qSorkZHrIyHn3S3xO9ErsHm+40/HcaM5CCWk05yELSorla5HbQfpDYxtFIorWJsTUxyE2hmh4deVsbqEklL8gkm2TbZFqbbIzIz1GqyS/NMO4SqbgKiUt6EpmZXXGYS0uMRnpjy2UmnV4B6NFw390t8TvRK7A2MbT2APHulvid6JXYDulvid6JXYGxjaEX9Gv2i+sY9hDjSGyQvQ5+kX/0lftH6B7d0t8TvRK7Aae08TPYA8e6W+J3oldgO6W+J3oldgbGe7SPVV02PAVNqpMFGhn3QbjySMmjTpJZX1GXBbSKHC9Nkv1uqYpnMrivVNDTceIsrLajt3zTc/vqNRmZf2SsWsjFjiCkwMSUwoE1c1DOyodvHNxtWck7p0kXAdj9ZFxCNRMOU+hTnprUqry5DrZNG5OkOyDSkjvYs7VpDYxtGQA8e6W+J3oldgO6W+J3oldgbGNov5Qd4VY9h/qIe+Cd5FG5oj3CJj59C8C1dJEu5s8LaiL84uMhLwTvIo3NEe4V/D9/wn+T6L8AACJQ49rOMMRYfmJiUmszIcdaNkU2y5mpNRmZGfrsRfQK7dNxtynqXTGIuMfG7XsS95hdGqm+4jzMtC9vBkNm6bjblPUumMG6bjblPUumMKYBlNQ2bpuNuU9S6YwbpuNuU9S6YwpgADZum425T1LpjBumY2P/AO56l0xhTAQA7Mg5OsHSqfHkP4bpzjrrSFrWpkjNSjIjMz/iPfczwTyYpnQEGCk+J4XsG+qQmABT3M8E8mKZ0BA3M8E8mKZ0BBsAAFPczwTyYpnQEDczwTyYpnQEGwAAU9zPBPJimdAQXsb4IwxRcJyp1NoUGLLbU2SHmmiSpN1kR2P1GZDTQo5S94k757XXSL0W+gzXUz0q4jyZzDMyg4up81+HExDUGY7CzbabQ7ZKEloIi9BDw3Tcbcp6l0xihrHjqb7ZXvEEcTbyLNlJN3Dkhs3Tcbcp6l0xg3Tcbcp6l0xhTAJlBs3Tcbcp6l0xg3Tcbcp6l0xhTAAGzdNxtynqXTGGbJ7iqu4tx3S6FiCqyqlSpalpkRJK89twiQpRXLhsoiP+Ay0PWRv5WqD7R38JYA6Z3M8E8mKZ0BA3M8E8mKZ0BBsLUAAKe5ngnkxTOgIG5ngnkxTOgINgAAp7meCeTFM6AgbmeCeTFM6Ag2AACnuZ4J5MUzoCCviTDNEw7ijC3eelxYJvzS2XYEZufZSLX9Vz+kaoEHHu+jCHPT6zY1UO+WT6My0y5ea6ofgAAMpqAAAAAEGs+IqhzZzqmJwg1nxFUObOdUx1B6keRbmU+T/eTT/UvrqDMFnJ/vJp/qX11BmFKRexZs4lehZAAABEoAAAAAM9p3y4VjmCfc2NCGe075cKxzBPubFpO6LLscR/GZoQACoxRNep+Gp0qPOjQXkN+BJkoNaGzMyK+aWkz02ItNzMtB6hE7LcAS8O4hklXMRQqi9JOJBKK5HOS2Wz2dQozSZILTpToK2dpsJNfxOra29LpECfUGH4by0TIamySyZEZeFnrSojIy4CMysfDoADWILdYgu1p6kIfvPZZS+trMUVm1GZEq9rHpIy0HwBGaxlVGME0c1U2dEky+4YiKhN2JaFKeNKVOESVmZmRXV4RFc7X4hLho72ZVqkqVOdfbRQWFbK+SbpLZ3dHgkV9N+DhsAHwAiU6pw6rGU/CeJxCVqbV4JpUhaTsaVJMiMjLiMhLAHjF/Rr9ovrGPYeMX9Gv2i+sY9h6954twACbi6qT4s9xiFUlNKbpj0lEaK0lT2yJPwXFmsjSTRWMrHY1Gei9rC2o9eafwxQqjUXmmXqmxHzS1Et1xBKzUl9P8CHh6Xg/Li0tNqcVfNSRmdiMzt6iCBXMUVVrF2H2m6BW0NbPJSppK2CKURNKtYtl0kX53hW+nQLCJWZ+IcUzKYlcqjogwmH1MqS2bynHTXbOPwk5qSQWgtZq0nosAGWlVSFW6YxUac8T8R9Oc04STLOK5lex6eATAjZOp8WmZJ6FJmvoZZJhKTWvQWcpw0kXrMzIv4h5ACzlB3hVj2P+oh74J3kUbmiPcPDKDvCrHsP9RD3wTvIo3NEe4W/D9/wn+T6L8AACJQ4ixj43a9iXvMLoYsY+N2vYl7zC6NVN9xHmZaF7eDIAAGiYew5h2kYELGOKo8ieiVJONApzDxtE6ab5y1rLSRaDLRxcN9GU1GdgDJiiRhSa3ElYbhTac6rPTKhPu7KhFrZqkLPSd7ncj4gtgAAQAEAO86T4nhewb6pCYIdJ8TwvYN9UhMAAAAypubibKBjGuxaXX3KHRaK93IlUZlK3JDxXzjMz4CMj0cVvSYAa4WLHpWUqpYWOK2lmJBblJfJZ5yjUZFYy1W8L/INQx7AzVaYy3V1ivyGJM5qktoOSwjMJ5BLRmrNP9lRlrLVe9hsIAAo5S94k757XXSG4KOUveJO+e110i9FvoM11M9KuI8mceVjx1N9sr3iCJ1Y8dTfbK94gjibeRZspJu4ckAA15PsJN4wxL3HKkKjU+MwuVMeT+clpFr29JmZF6NemwsqlUcm06BOiwaDU6ZIbaUcOb3Wb2zLL80nEHoSSuMr2uJlBCAAAAA9ZG/laoPtHfwlhFD1kb+Vqg+0d/CWAOxS1AAWoAAAt4yxanCEGnyVQlSu7J7UIkk5mZmffwtR3tbUKrH+KqrS5tFw9h1LHfqsvKQ26+WchhtOlSzLh1/5HoMIOUSPjOmxqDEr9QiVenuViMtE1pgmHGnCM/AUgtBpMjMyP+7pAG7gAQAABBx7vowhz0+s2H4IOPd9GEOen1mxqod8sn0Zlply811Q/AAAZTUAAAAAINZ8RVDmznVMThBrPiKoc2c6pjqD1I8i3Mp8n+8mn+pfXUGYLOT/AHk0/wBS+uoMwpSL2LNnEr0LIAAAIlAAAAABntO+XCscwT7mxoQz2nfLhWOYJ9zYtJ3RZdjiP4zNCEGsUeDXqU/Tai1ssV62cklGkyMjJRGRlpIyMiMjLiE4QqpBkVCITMapSqevPJWzRktmqxcHhpUVj9QidlUmg02hSn6lGYqDkqUhqM+42848tRF4KXFEpR3NJGfhaTIh6UKjuR8NLpVRUbzalPtkazInFsqWrNzzLWs0npPWZ6T03EbavVuWlc6KL/sgPDFVIjM8a1siL/8AHF/2QBZysPUqdh4qDKipdppNIZJlSj0JTbNsq9yMrFY73uVxBZw7TKA87WWGKjMnJjkwpapLj7riCUZkVlqsoyMzMQotGlzc/uTH1VfzDsvYihrzT4js1oEjaxVuWlc6KL/sgCZhynSKaiooddcdZdmKejqeItlNCkpM887Ffws619JJzS4BdheiYdqceWy85i2ryG21kpTLrcYkuFxHmtEdvUZGGEAeMX9Gv2i+sY9h4xf0a/aL6xj2Hr3ni3FLUcLUmqVUqlKZdOScdUVw231oJ1kzM8xZJMiUVzM7HxhdqWGKnB7zxaQ2w7T4MqMUdDzji3GW0n4RmZmdy1fwIitoDBUqJUps1T8bE1RgNGRETDDUdSU24brbM9PrETazWuW1Y+zxP9keHpdyKZElz4U55s1SISlqYVnGWaakmlWjUeg+EQqjhel1OrM1R5t5uc03sOzR5C2VLbvfMXmGWcm+mxisfoVTit7JIx3VGm72znGoiS+k2h6Jw3WFpJScb1g0mVyMmImn+UAKmv4TmQsOt0vDsdhUCMlsmIzrjilJXspKUojMz0WL+BZ1tYfG87Y059s+2nN1X9AWtrNa5bVj7PE/2RaUimzKcl4plamVM1mWacltpOx2ve2xoTr9N9QArMoO8Ksew/1EPfBO8ijc0R7h4ZQd4VY9h/qIe+Cd5FG5oj3C34fv+E/yfRfgAARKHEWMfG7XsS95hdDFjHxu17EveYXRqpvuI8zLQvbwZANdgUt/H+Rem0iiG2/WKFMdU7CzyStxpw1HnJuen84voP0XyIftp1xhwnGnFIWWpSVGRl/EhlNQz1jAs/DS6WjEEqLTnZzhkplS9kcjtlb/AIi0ovoO52ItJ2MfvGNAo1IplAmUWRMfZqMZx1bkpKUmpSXFIuSSvmkdr2ufrC1HZkVKe0whRLkPuEhJuuEkjUZ2K6lHYvWZjQMa0GaxgfDJqXBUdMhuNS0tT2HFNqU+o0kSUrM1aFEfg3sAM3AQAEAO86T4nhewb6pCYIdJ8TwvYN9UhMAAMbo9bbyY40xRBr0SYin1Sac+DMZjqdQs1XujwS1lci/h6SvsgABkmDJk+rZaazVpVJlU5iVSGzjokJss2yWkkmov7KjzTPN1kGONWsSFlKjUuo9xsU+TCkPNRmSz1lmLQlKluHwmSjOxFYtWnWHgZnPrT55TINUTh3EC4kSHIhuOJpyzI1qcRY08abJM7+oAaYFHKXvEnfPa66Q3BRyl7xJ3z2uukXot9BmupnpVxHkzjyseOpvtle8QROrHjqb7ZXvEEcTbyLNlJN3DkjRsjlTgxsTVClz5KIzdYpzsBDyzsSXFWzbn6bGXrsIc3JNimkxqjMq7EeBChNrWcl6QnMeMiPNS3YzNRqtYtBa9Ngij1ckvvISh15xaUaEktZmReq+oTKDzg+iYOxLUKfh40VpNUmtmRzScbJpp7NNViazTNSCtpM1EfoIIjqNidW3cjzVGVy1HYanh7DU2iYTRUaK9TZFdq0c07OupMNlT2FlpJJLWR7KojsZ28ErlruMukMLiynY7ubsjSzQrNUSiuR2OxloMvSQA8g9ZG/laoPtHfwlhFD1kb+Vqg+0d/CWAOxS1AAWoAAyzKW45h3HGEsZPMuuUyCt2NNW2g1GylwrEoyLg0n9BFwkKLKTjal4rjUSJQdlnxo9XjOyZqG1JZaUZmSUXURXUdzOxaiIbepKVpNKiI0mVjIy0GQ80RWG2iaQy2lsjuSSQRER8dgBRV5GLHJCu8UmkRYrbOdnzGlurccufg2JSSSm1tOk9OrRp/eCsQuYqwdTa27HKO7KbM1tpO5EolGk7egzTcvQYWcoeI3EzmcMI74Q4kprPn1KPCdeNDJ3LYmsxJ/8AEVpLOPQkuM7Bvw1JpcigxiozLrMBlOwstuMLZNJJ0WzVkR/x4QBbBBx7vowhz0+s2H4IOPd9GEOen1mxqod8sn0Zlply811Q/AAAZTUAAAAAINZ8RVDmznVMThBrPiKoc2c6pjqD1I8i3Mp8n+8mn+pfXUGYLOT/AHk0/wBS+uoMwpSL2LNnEr0LIAAAIlAAAAABntO+XCscwT7mxoQz2nfLhWOYJ9zYtJ3RZdjiP4zNCAAAidgIdVpcOtUx+nVBrZYj6c11vONOcV72uR34BMFfXKc7V6HMpzM12EuS2bfdDSSNaCPXa/Da5X4LgBUocCPUcoD1epEdqNSYcJVOJ1lBITMdzyM80i1obzc0lcKjMi0EHsKtBwtVKRLiKk4mkzIURk2mYRRWmGklYiLQ2RXsRaCPUGoAAAAAHjF/Rr9ovrGPYeMb9Gv2i+sY9h6954twAAAeHouYkiYfiL2wVmImQ7HZOO0haNlNWeovAQ2eg1qOySsVzvbUPxgGiy6Bg+JBnETb+c46cdKs5MclrNRNEfCSSMi0aNB20D84kwxUa1V6fUIVeVTzgpXsTfcaH056tBr8L+1m+CR8BGfGYtKDTptLp6mahVXqnJW6pxUh1ska9SSSWgiLiIAWgAAACzlB3hVj2H+oh74J3kUbmiPcPDKDvCrHsf8AUQ98E7yKNzRHuFvw/f8ACf5PovwAAIlDiLGPjdr2Je8wuhuxNSp0+oodix1OIJokmZGWu5il2uVfyJf0l2jdS5MyKfE1C9/AwUOfKhkQpxLbs4lWAWm1yr+RL+ku0G1yr+RL+ku0Z7POwvRmm0Sca1RVguLTa5V/Il/SXaDa5V/Il/SXaFnnYXoxaJONaoqwELTa5V/Il/SXaPpYdq3kS/pLtCzzsL0YtEnGtUdvUnxPC9g31SEwKFOx3hhimxWnKs0laGUJUWYvQZJIj4BK3QMK+eGvqL7As83C9GLRJxrVDKALW6BhXzw19RfYDdAwr54a+ovsCzzcL0YtEnGtUMoAtboGFfPDX1F9gN0DCvnhr6i+wLPNwvRi0Sca1QyhRyl7xJ3z2uukSd0DCvnhr6i+wLeOsXUGrYRlw4NRbekLU2aUElRGdlkZ6y4iFqNImqdC3C96+CFJnynJjSiW5/JyvWPHU32yveIIv6nQqm/VJTrURam1uqUlVy0lf1iJtcq/kS/pLtHE2RNccTUL38GdyqRJUuFONbl8oqwC02uVfyJf0l2g2uVfyJf0l2jizzsL0ZS0Sca1RV3ALTa5V/Il/SXaDa5V/Il/SXaFnnYXoxaJONaoqw9ZG/laoPtHfwlhZ2uVfyJf0l2huyZQ5FCyjUip1Ns40NhbhuOq0km7aiLVp1mQWedhejFok41qjr0tQAs7oGFfPDX1F9g+7oGFfPDX1F9g8s83C9GLRJxrVDKALW6BhXzw19RfYDdAwr54a+ovsHtnm4XoxaJONaoZbAC1ugYV88NfUX2A3QMK+eGvqL7As83C9GLRJxrVDKEHHu+jCHPT6zYud0DCvnhr6i+wKeKMQ0quYowt3tmIkbDNLZM1KizbqRbWXoMaKLJmQzdsULS2P4/TM9KnS4pTUMSb2r5/aNRAFSp4ycp1SfhlQ6hIJpVtlaRdKtBHo0ekRNv7vJuqfU/7CCo01ral0NTnQJ7No7ACTt/d5N1T6n/YG393k3VPqf8AYe2Wbw5o8roOI7CDWfEVQ5s51TCvt/d5N1T6n/YeE7G70unyYxYdqiTeaU2Sjb0FcjK+r0jqGizU09nNHjnQbN5b5P8AeTT/AFL66gzBcwKy4xg6C082ttac+6VpNJl4Z8BhjEp97FmzuV6FkAAAEjsAAAAAI9byfPVXEkmsxq/Jp7r6EoNLCLGREkitnEoj02uHgA6gjige2E5ihUXkzPNzeq8tqr974wbm9V5bVX73xjQwClfM48kc1UJnm5vVeW1V+98YNzeq8tqr974xoYAr5nHkhVQmebm9V5bVX73xg3N6ry2qv3vjGhgCvmceSFVCZ5ub1XltVfvfGDc3qvLaq/e+MaGAK+Zx5IVUJnhZN6qWrGtUL1Z3xg3N6ry2qv3vjGhgCvmceSFVCZ5ub1XltVfvfGDc3qvLaq/e+MaGAK+Zx5IVUJnm5vVeW1V+98YNzeq8tqr974xoYAr5nHkhVQmebm9V5bVX73xg3N6ry2qv3vjGhgCvmceSFVCZy9kxqEllTL+Mak60srKQ4k1JUXpI16Q70WmlRqLDppOm6UZpLeyGm2dbhsJ4BzFNjjWxs6hghh80AAAEzozDJnQaTVMOSHp1OjSXUy1JJbrZKMizU6NPrMOm0/DnmSB0BBcySb1pXPV9VIfhtpc2NT4km95iocqByIW0txSbT8OeZIHQEDafhzzJA6AhdgGaumYnqaamXhWhSbT8OeZIHQEDafhzzJA6AhdgCumYnqKmXhWhSbT8OeZIHQEDahhwv/RIHQJF2AwrpmJ6ipl4VocM1KrVFqqS225r6UJeWSUks7ERKPQIvfqp+XyOkMfireOJvOHOsYhhXTMT1FTLwrQn9+qn5fI6Qwd+qn5fI6QxAAFdMxPUVMvCtCf36qfl8jpDB36qfl8jpDEAAV0zE9RUy8K0J/fqp+XyOkMWmHqnOk1plp+W842ZKulSzMj0GFwXOF/H7HzV9UxejTY3OhTie9dSFJlS1JjahW5/B1thnC9BlYXpb79IhOOuRW1LWpkjNRmWkzMWu0/DnmSB0BD7hHefR+aN9UhdCc2bM8cX/p7+J3KlS3Lh/wDK3L4KTafhzzJA6AgbT8OeZIHQELsA4rpmJ6lKmXhWhSbT8OeZIHQEDafhzzJA6AhdgCumYnqKmXhWhSbT8OeZIHQEE/KnQKRScmlanU+nRosppDZtvMtklSbuJI7GXoMxpYRcsfyS1/2bf4qArpmJ6ipl4Vock9+qn5fI6Qwd+qn5fI6QxAAFdMxPUVMvCtCf36qfl8jpDB36qfl8jpDEAAV0zE9RUy8K0J/fqp+XyOkMHfqp+XyOkMQABXTMT1FTLwrQn9+qn5fI6Qw85LpsqZiqJ3TIcdzZkfNz1Xt4YzcaBkl31RueR+uNNEmRxTdjb3PozNS5UEMptJb11R0rVKJiWVU33oOISjRlmWYzsV83QXD67iHtdxhyqLoQ7AEVSIktmxaI0uVC3t89WJO13GHKouhBtdxhyqLoQ7AHtpj4LRdjyqh/erEna7jDlUXQjxl0XF8OE/JVijOSy2pw0kzpOxGdtXoD4IFb8QVHmrvVMew0iJtLYtF2PHKWze9WQMGzZNQwpClS3lPPuEvOWq1z8My4PQL4LWAN5NP9S+uoMonPSU2JLizuX5wLIAAAJHYAAAAAABFyhY6lYMVDNiPHdbeQ4txTxq8HNMtVvWOoIHG9iPIolCtrHoAwX8oF79xTf5oPygXv3FN/milRFxWqOKxcHob0AYL+UC9+4pv80H5QL37im/zQqIuK1QrFwehvQBgv5QL37im/zQflAvfuKb/NCoi4rVCsXB6G9AGC/lAvfuKb/NB+UC9+4pv80KiLitUKxcHob0AYSeXyQllDpsU3NWpSS/S8Fu0ef5QL37im/wA0KiLitUe1i4PQ3oAwX8oF79xTf5oPygXv3FN/mhURcVqjysXB6G9AGC/lAvfuKb/NB+UC9+4pv80KiLitUKxcHob0AYL+UC9+4pv80H5QL37im/zQqIuK1QrFwehvQBgv5QD37im/zRqWBcTScV0R6dKYZZWiQbRJaM7GRJSd9PrHkUqKFeL+nqjTewaAAAJHYg5JN60rnq+qkPwQckm9aVz1fVSH4aaZ7iPMy0L28GQBeqeO8K0aacOoV+BHkpOymlPFnJP+8Rav4hhGXM1vDkiXVImGcCP1truhaZspiO0lp10zuss9wyNZ3P1adGgZjUaXFlR50VuVEfbfjupzm3WlEpKi4yMtBj2GYZDndjwBMS4RssxqlIQlDiv0SCzTsZ6tBmf+Y0Kn1emVZLiqbUYkxLZ2WcZ9LhJPiPNM7ACaAwAMAcGVbxxN5w51jEMTKt44m84c6xiGAHnJBDiz8qNHjTIzMlhZu5zTyCWlVmlmVyPQekU8nCldlqnVCDQ5ztObecLZ2YyjbIiUd7GRWsX+Qv8AIr8rVF//ALfgrE2DlHxQrKjFkd83yY7vTH7ibUaWCa2TNzCbLRq4dd9N7gDMgB0ymUdETKpW6dTY5qSqQS0MsovpWglmREXpUeggnvx3orymZDTjTqdCkOJNKi9ZGAPMXOF/H7HzV9UxTC5wv4/Y+avqmL0W+gzXUhSriPJ9DszCO8+j80b6pC6FLhHefR+aN9UhdDibeRZs7k3cOSPw662wyt55xDbaCNSlrUREki1mZnqC9Ex/hGfUUwIuIqc7JWrNQhL5eGfER6jP1GJeK36LFwvPexESDpKW/wDmErIzJRXKxWLSZmdiIhjuUSpRark2kuwcAzadCb2J2LUHGWWNhLPTZRJSecRGR2/iQmUN7AIdMeU7SIjzq7qUwhSlGfCaSMzHrEmRZ8dMiHIZkMquROMrJaTtoPSWgAe4RcsfyS1/2bf4qA9BFyx/JLX/AGbf4qABx0AAABoeTyDDl4Rx47JisPOMUslsrcbJRtqurSkz1HoLUFObhav06nJqM2i1CNCXbNfdjrSjTq0mXCH/ACQVF6kUDHNRjoaU9GpiXWydTnJziNVrlw6RMyR4orWJMbSaHXKjKqVPq0V5EhmU4biS8G9yI/zeEtFi0+ggBjoB7OR1FMXHaJTiiWaEkkrmrTYrEPNxtbTim3EKQtJ2UlRWMj9JAD8jQMku+qNzyP1xn40DJLvqjc8j9caqHfLJ9GZaZcvNdUdfgAAZTUAAAAAIFb8QVHmrvVMTxArfiCo81d6pjqD1I8i3MqcAbyaf6l9dQZQtYA3k0/1L66gyilIvYs2cyvQsgAAAidgAAAADFcvv6nC5s/70jahiuX39Thc2f96RaR6/p9GTmenQ5qFthqhO4mxFDozMhph2UvMQ46SjSR2vpsRnwCpDhks+U/D/ADsvcYiUFBRZqjK97GPge35qqtk2qTtaZZTJhz2Gqa6UdLSvCJeytlmkV0kRJO3AZlxilOkUyjVmVT8Qvy7tNoNC6clKyM1JJWnPNOiyvpAFA42tpZocQpCi1pUVjH5GwVqn4TqeVyNDlvVDuh6TFQ6iQhtLCk7EiyTUSs7T4JauEwlV5zECKS7T65SER9hm5yZD0bYnG1ZpkbSDKxG3qPNIjIrEZWvpAVACdWKU/RKtIp0lba3mDJKlNGZpO5EegzIuMQQBLd8Vxvaue5AiCW74rje1c9yBEAFqugyUYXaxBsrCojks4eYSj2RLhJz9JWtaxlwiqD/Tam9SckbElhmK4ssQOW7pjoeSX/Lo0ZqyMtPqvxD9Ymweio4ynMUQoMM1NtrTAW9mGb5spccZbI+FJmZWO1j8HXoAGfAGhYOh4cOi4gUur1An10U+6UFTkmTRbMzc0nsvh6bFqToMz4LDwKmQ6bguRXaAaqgpNTTGckSYac5lvYiUV2zNZJJSjUWdfTmkWi5kYCIANbtAl4kq9QfiQ4FKdUpS2qZsuYpRkjPUltJ+jTY7a7FxBUAAWsdd5HN6MnniuogciFrHXeRzejJ54rqIFoLqL6/pOL1r7NEAAAiUEHJJvWlc9X1Uh+CDkk3rSuer6qQ/DTTPcR5mWhe3gyAZjSsC4wwwUylYer9NZosmQt5DkmKpcmNn6yRpzVGX976BpwBmNQjYSwMWGcHVSi1IkVlp+W9JJtRFd5J5ppSrOsRqM0lfgufEKbDptFlbN1+inhtxdKNmPCUhBHNsslKXnN3b8AiIs25q031DRatDkz6a9Hh1B6nyFWNuS0hKlIMjI/zVEZGR2sZHwGYoKZhCajEUeuV6uKqsyI0tqGlEVMdtkl2z1ZpGZmoyIiuZ/wAAA2AMADAHBlW8cTecOdYxDEyreOJvOHOsYhgBnye4jiYSxvT63Oaedjxtkz0MkRrPObUkrXMi1mXCG2FjHJ21WUYpew5U2622vZigMuo7jN7WSyM/CTp020kR8BjKwABthYkrVXxdUqgivtUWVVM835anFtpSm+dmEpBGoi0ERW4iuLnKiUk4mGFPyO+ZJp5o79EslpmqJZmZEq9zzL5vhWVxkFChzqPDW+ms0hyoMupIkKZlGw4yZHrSdjI76jIyP+Am4lxQzWKfTaTTqf3BSaaThsMreN1xS1mRrWtdiuZ2LQRERABbFzhfx+x81fVMUwucL+P2Pmr6pi9FvoM11IUq4jyfQ7MwjvPo/NG+qQuhS4R3n0fmjfVIXQ4m3kWbO5N3DkigxnhhnGOE51DefUwUhKTQ6kr5ikqJSTtwlctJcQSazgbHmJ8LvUOsYipTcdLaUo7kjrSqQpNs3ZVHqLReyS1jVQCZQQ8Uy0EzSsFFOajuTWUnOkG6TexQ0WS5YzP85w/AT61HwD7koVDRhJ+NDUwSGajLJLTSiMkI2deboLUVi0egNNRw9RKw8l6p0enzXUJzUrkxkOKIr3sRqI9Gk/pEDCWEKfhCDIjw22M999x1bqGEtqMlLUpKDtrJJKsXo4gAwhFyx/JLX/Zt/ioD0EXLH8ktf9m3+KgAcdAAAAPGT/G0DB8KvtzqadQ74xkMoYURbGsiUecSzvciNJnpIj08AuoWNcE4RjT5uEKVVyrcxhTDa6g4g24ZK15mbpUeq1+LXrvloAA/4Ljrw/TkYoW2o50uQUOlFmGrNO5E8/8A/qk81P8AeXf+yKnKQlScpOIs4jK9QeMrlrLOMR6PjfElDZjxYNbqDMJhecUZqQpKLZ2cZWLjO/0jyxdiaXi7EkurSlO2dWrYWnHTc2Bu5mTZHo0Fc+AgBRjQMku+qNzyP1xn40DJLvqjc8j9caqHfLJ9GZaZcvNdUdfgAAZTUAAAAAIFb8QVHmrvVMTxArfiCo81d6pjqD1I8i3MqcAbyaf6l9dQZQtYA3k0/wBS+uoMopSL2LNnMr0LIAAAInYAAAAAxXL7+pwubP8AvSNqGK5ff1OFzZ/3pFpHr+n0ZOZ6dDmofptxbTiXG1qQtJkaVJOxkfGRj8ifSaxPocw5dOeJl80GjONCV6D16FEZcAiUPOZUZ1ScSufNkSlpKxKfdUsyL+JmJ2KKnHrOIH50TZCZcQ0kicIkq8FtKT0EZ8KRY7o2KvOafsrPwCTT8bY1qs9mDAlqkSnlZrbTcRk1KP0eAAFF596Q8br7q3XDtda1ZxnYrFpP0D3mVKfUlNnUJ0mVsacxBvvKczE8RXM7F6A61Gv5QKXTkVCRLZVDU6bGzsIivIS4RXNCjQR5qrabGKjdGxV5zT9lZ+AAV2KanHrWJJlQiE4TDykmknCIlFZJFpIjPi4xTBkl47xJOhvRJNQSth5BocT3O0V0nrK5JuQWwBLd8Vxvaue5AiCW74rje1c9yBEAFjT67VaUy4zAqEiO04olKQ24ZJNRalW4y49YsaA7TUKkTp9afh1AzMmlpiqePwiPOXfOLwtNivxmeuw86fi+qU2C3Djt002m7kk3qZHdVpO+lSkGZ6+ExJ2+1r91SP8AB4v+2AF9qU/GJ9MZ9xtD6DacJKrZ6Lkeaq2srkR29Ak0qu1ahOuu0mpSoS3U5jio7xoNRcR2PSG2l1jGVZjnIg02lLjk4TOzLpMNts3D0kglKQRGr0EdxAm4wxJTpr0ObDpkeSyo0ONOUWKlSTLgMtjAEOhO01CJU2dW34lQWakoNMVTyrKSecrOzi8I7mWnVcz12svHa521Bm2+1r91SP8AB4v+2KmrVqXW3m3ZaYqVNpzU9zxGmCte+km0kRn6TAFcWsdd5HN6MnniuogciFrHXeRzejJ54rqIFoLqL6/pOL1r7NEAAAiUEHJJvWlc9X1Uh+GZZMa1SqbhuSzOqcKK6qWpRIfkIQoyzU6bGeoO22vDnn+l/bG/iGmme4jzMtC9vBkW4BUba8Oef6X9sb+IG2vDnn+l/bG/iGY1FuAVG2vDnn+l/bG/iBtrw55/pf2xv4gBbgMVG2vDnn+l/bG/iHw8V4ct4/pX2xv4gBxJVvHE3nDnWMQwxVLC2IXqpLcboVUW2t5akqTDcMlEajMjI7ahF2pYk5P1X7E58IApwC42pYk5P1X7E58INqWJOT9V+xOfCAKcAuNqWJOT9V+xOfCDaliTk/VfsTnwgCnFzhfx+x81fVMfNqWJOT9V+xOfCLKhYfrUCrNSJlIqEZhJKJTr0ZaElcjIrmZWF6LfQZrqQpVxHk+h13hHefR+aN9UhdBSwxiShRsLUth+tU5p1uK2lba5baVJMklcjIz0GLbbXhzz/S/tjfxDibeRZs7k3cOSLcAqNteHPP8AS/tjfxA214c8/wBL+2N/EJlC3AKjbXhzz/S/tjfxA214c8/0v7Y38QAtwi5Y/klr/s2/xUBj214c8/0v7Y38QUMqFXptaybVmnUqoRJ855DZNRor6XXHDJxJnmpSZmegjPQXAAORgC52pYk5P1X7E58I+bUsScn6r9ic+EAU4BcbUsScn6r9ic+EG1LEnJ+q/YnPhAFOAXG1LEnJ+q/YnPhBtSxJyfqv2Jz4QBTjQMku+qNzyP1wr7UsScn6r9ic+EOuTSk1Kl4qhd8KfLibJMj5ndDCm86y9Ns4iuNVDvlk+jMtMuXmuqOsgAAMpqAAAAAECt+IKjzV3qmJ4gVvxBUeau9Ux1B6keRbmVOAN5NP9S+uoMoWsAbyaf6l9dQZRSkXsWbOZXoWQAAAROwAAAABiuX39Thc2f8AekbUMVy+/qcLmz/vSLSPX9Poycz06HNQB9sfEYLHxGIlD4PaIckpbRQzd7oUrNb2G+eZnosVtNzvb+I8rHxGJtIqkyh1aNU4C0ty4y89pamyWSVcdlEZABkrT6aFhVWE46ikSe6ky6o82echt0kmlDKTLQebc85XCo7FoK5poY6rjau1mmOU6UuImK4tLi0R4LLBqNN7XNCSM7XMLtj4jAHwA+2PiMFj4jAEp3xXG9q57kCIJbpH3rjaD/Sue5Ai2PiMAfAD7Y+IwWPiMAXuHqa5V0uJnTXY1Cgn3RLcuZpbzrFZCdRuLzSSRcNtOhJmX4xdXnMUYqn1lxjYO6VkaGr3zEEkkoIz4TzSK58JiTRsZVGiUhdLYiUyRFW/3QaZkBt/w83NvdZHqLQXrPjFXWqvLr1UcqExLROrShGay0TaEpSkkpJKU6CIiItQArwD7Y+IwWPiMAfC1jrvI5vRk88V1EDkUiO+ox11kc3oyeeK6iBaC6i+v6Ti9a+zRAAAIlDiLGPjdv2JdYwu3DFjHxu17EveYXRqpvuI8zLQvbwZBcFwAGU1BcFwAABcfSHwBADvOk+J4XsG+qQmWEOk+J4XsG+qQmAAsCwAAAsCwAAAsFHKXvEnfPa/ESG4KOUveJO+e110i9FvoM11M9KuI8mceVjx1N9sr3iDcTqx46m+2V7xBHE28izZSTdw5ILguAAmUC4LgAAC4e8jZ/8Am1QfaO/hLCIHrI38rVB9o7+EsAdiEWgfbALUAAFgWAAAFgWAAAFgg493z4Q56fWbD8EHHu+jCHPT6zY1UO+WT6My0y5ea6ofgAAMpqAAAAAECt+IKjzV3qmJ4/DrSH2VtOpJba0mlST1GR6DIewvY0zxrahJwZiKjQMJwY0qox2X0ErOQtVjK6jP3C+234e87xfrg2oYeL/0iJ9QG1DD3miJ9QaY4pEcTie3zyJQqZCkvINt+HvO8X64Nt+HvO8X64NqGHvNET6gNqGHvNET6g5//P8Avke//X9HjLxpQ2IbzzNRjPuoQakNJcsazItBF6x+qJjGkVwkoaf2GSf/AEHvBVf0cCv4D8y8F0N+G8yzTozDq0GlDqW7mgzLQZeofqiYOpFDzVtMbNJL/rveEq/o4E/wHrs/gezbtPFW+Lz2bC/GMZeXXGY0JbTikK7mf0pOx60jZxiuX39Thc2f96RxI9f0+jOpnp0Oc++M7yyR0qu0HfGd5ZI6VXaIwC1iJQld8Z3lkjpVdo+d8Z3lkjpVdo0TEGEG69V6fHpkqnR6k7RIj7VPQ0ps5C9gJa7GlOYSj0mRGen0DM0pUtRJSRmozsREVzMASO+M7yyR0qu0HfGd5ZI6VXaLN/DchnDEGrEl9TkmU/HUzsJ+ATaWzJV/Tsh/VHtFwm48lhuRUYcOZJinLjsSFGklNkRqK67ZqTUSTNJHr0arlcCm74zvLJHSq7Qd8Z3lkjpVdojAAFm5UJveyOfdki+yuf8AVVxI9Ii98Z3lkjpVdo/TviuN7Vz3IEQASe+M7yyR0qu0HfGd5ZI6VXaGjJ5FjzZdeYktxjT3klrS5IbJRNLJGhZHYzSZcZaRV1rDS6VTINUjT49Qp0w1obkMEpOa4i2chSVERpMrkfpI7kAKvvjO8skdKrtB3xneWSOlV2j0pVNdqdRjRkpczHXkNKcSg1Zucoiv/mLF/CswsTzaOwR5sZ19JyHkmhBNtZxqcVrsRJSZ6L8RXAFV3xneWSOlV2g74zvLJHSq7RMqlHagQYU2PUY0xiXnkRNmaXG1IMiMloPSV7kZHqMv4iqAEoqjOv8ArkjpVdo6yyPKUvCcpSlGpRzVGZmdzPwEDkMtY67yOb0ZPPFdRAtBdRfROL1r7NEAAAiUOIsY+N2vYl7zC6GLGPjdr2Je8wujVTfcR5mWhe3gyAOWHsn0ir0E69UarAotINw2mpM1R3eWWskJLSdrH9B8R2TS1jUcoSHF5Lcnj8YjOAmK6hRp/NJ66c6/puSvoMZTUJmKMLu4ZlR093wqhFlNbNHlw3c9txNzI/SRkZWMjFCLKm0OZU5cZhOxRkSCUtEiW4TLOam+crPVosVj1X06NYnV7CE2g0+JUTlwJ9PlKU23LgPbI3np1oO5EZKsd7GQAXwEABADvOk+J4XsG+qQmCHSfE8L2DfVITAAChxrU5VGwTWalBWTcqNEcdaWaSURKItB2PQYpMrOIJ+HsDOuUt02Z0t9uGy8Wts1mdzLiOxHY+C9wo4vyXxMPZPqpPpdXqTdQahrOY85IUtM1NvDStB6NOm1tWjWANNwjUJNWwdRqjMWS5MqE086okkkjUpJGZ2LVpF0FvJ/8nWHP/bY/UIMgAAo5S94k757XXSG4KOUveJO+e110i9FvoM11M9KuI8mceVjx1N9sr3iCJ1Y8dTfbK94gjibeRZspJu4cke0SJInzGYkRlb0h5ZNttoK6lqM7EREH53I9XGs+Mmq0JyroRnqpKJxHJ1Xtm2sZ24Lj8ZFEx1ZWKP3RbRspov+3sSrBSrHdx4on7Nsvd5zHM+18/ZM87+m9xMoVYBbYdw5U8VVdFMpMfZpKkmuxqJKUpLWZmegi1F6zIuEV0qM7DlvRX05rrK1NrK97KI7H/mQA8g9ZG/laoPtHfwlhFD1kb+Vqg+0d/CWAOxS1AAWoAAAj5TMRVPDtJo79Kkky5Jq7EZ1RoSvObVnZxaSO17Fp1iqykvS61izDGCWZb8SHVFuPTlsLzVrabK+YR8R2V/kFXKLgOBhGNQX6JJlsQHaxGQ9AceU62pdzNLhZxmZKsSiPjv6ABu5AHwtQ+gACDj3fRhDnp9ZsPwQce76MIc9PrNjVQ75ZPozLTLl5rqh+AAAymoAAAAAAAAAAAAAAAAAAAAAAGK5ff1OFzZ/3pG1DFcvv6nC5s/70i0j1/T6MnM9OhzUAA+oIlLIlKzSM9J21CJQfSxnS2K1SsRsIl986dT2YzcVbadi2VtrY0rNZKuaf7Wbm34L8IrID6XMGzX2Fx2ajT5DD7S0M7G82m5pNaXS0qUalJuk9Vrlq0fNr+GOWsb/AA6R8IkyKfRJbTbcjHrTiGkJbQSqfI0JT+aX5uornbiAH5kZQ667hiFARXaymc1Kfdef7sX4ba0tklN8652NK9B6PC0azH2qV7DldpcCTPj1FFahw24am2czueSTZZqFqUZ5yDsREZER3toMtYjbX8M8tY3+HSPhBtfwzy1jf4dI+EAfm0edgKQ4lMMpUOW1dJRybcQ2pKi0LLS5nKIjMlarFbQZ2WA5yqfRJqUFJx606SEJQnOp8jUkrJL83TYtBegKcxpliY81GklJZQsyQ8lBpJwuA7HpL+IA9HfFcb2rnuQIglu+K43tXPcgRAAwYSrcSizZ/dyHjjzae/CUtkiUpvZE2JREZkSrcVy9YntyI9UpMPDVOWtUKG69PedkKQyp9xRJTmpI1GSSIkpItJnpUfBYUlGgU2ct4qjWW6aSCI0GuO47nnwl4BHa3pFrtfwzy1jf4dI+EAWlaqs/BuPXW4EmRToOyx33IkCQaUKSSUmZWSqx/wBotPH6R+Wcosh3F06XVH6jUKHMOS0qG7JM1NsPXLwLmaUqIjK1tGiwhSKRh+W+p6Rjpl11VrrXAkmZ2Kxf2eIiHltfwzy1jf4dI+EAefe6i1Co9z0Q5TsdltTzjk9bbDjttBISWcaS1lpuZ6TOxWsPzjqAim4zqUZqOzHaJwjQ0yZZqEmRWIrGdvePba/hnlrG/wAOkfCPGtwKVsD01vFjdUmqURm2cR5Cl6bGecsraCAC4Wsdd5HN6MnniuogciFrHXeRzejJ54rqIFoLqL6/pOL1r7NEAAAiUOIsY+N2vYl7zC6GLGPjdr2Je8wujVTfcR5mWhe3gyANmG8oddwxTHaXH7kl01xeecScwTzZK4yI9XuCmAZTUMdVxTPxVWo82uoVKjRkknuaKRMJbZI9KUWSZJ9ZkYZMRHBqWSqBNoTL1OpcKpKYfhSFE6p2QtGdspO2LO8FJJzbFYI1IrNRoNQTOpctyNJSRpJaLaSPWRkegyPiPQJdcxXXMSJYRVZ6322L7E0lCW20X1mSEESSM+OwApgEABADvOk+J4XsG+qQmCHSfE8L2DfVITAAo5ScKyMX4MkU6E4luc24iRGNZ2LZEHciM+C5GZX9IUq3Pyg4uwhNohYS72SHIq0y5MiQhSXDJOlDKS1msysRmdivr4RrYLABCTTotOyYUGPiSZPprMKKwiU3FdWhSl5hJzFG1dVrn/ZMtJFfQPzkumHNjVtcOdIl0NM80U3up43HkIJJZxHnGayTnXzSVpt6w0Vx6vR22HaHDgzM1R7OxJfUyak20ZiyJREd+MhT4Sw/U4ddruIKsiLGlVZTP/JxFmtDSW0mRGpZkWcs76TtwABvCjlL3iTvntddIbgo5S94k757XXSL0W+gzXUz0q4jyZx5WPHU32yveIInVjx1N9sr3iCOJt5Fmykm7hyRIgzpVMnMToTy2JLCycacQelKiO5GH5/LFV3lqmN0WgsVlaMxVVbhf8xqtcjMzIj9NhnIBMobNgKhyoUPDKqa9BccqdSjy6m73cylxDLbpG2wSDVnGZmRrURFpPNLTYZtjGA/TsX1ViRsWeclxwtjdS4VlKMy0pMyvbg1lwirp8+RS6lFqERZIkxXkPNLNJKzVpMjI7HoPSRDzkyHZkp6S8rOdeWpxZkVrqM7no9ZgDyD1kb+Vqg+0d/CWEUPWRv5WqD7R38JYA7FLUABagADP8oeHK1Jq1BxThthuTU6M4u8RxZI2dpZWUklHoI9f1j4rGu4rhY7xyzS1rw6mlwYVRYeOI5IQ4+8ZHpWZlYkpSRno1ncbEAAJWNqhLmLRhmlyXY8h9hcqbJYOy40VF9R8ClqLML0Zx8AscAPvSsnuH35DzjzzkBpS3HFGpSjNJaTM9JmItZwDBqdQqNTanVWLNmtJQ6UWoOMoXmoNKSNKdFi/wDk+MSsCYdewvhCBTJL7rshtpOy576nUpXmkRpQZ6kaNBFoIAMgQce76MIc9PrNh+CDj3fRhDnp9ZsaqHfLJ9GZaZcvNdUPwAAGU1AAAAAAAAAAAAAAAAAAAAAAAxXL7+pwubP+9I2oYrl9/U4XNn/ekWkev6fRk5np0OagAAIlAAAAAfcKxMM4gqrdKXR3GYaKc47MqTkheysLQ2alOkRHmEjOskkmk9ZabhCGkRoeGiwzBpbWMqfCZkpQ9VjKM+p51d7k2VkZuYjRYr2NV1HqTbODtc7auAAfAAAAJbviuN7Vz3IEQS3fFcb2rnuQIgAAAAALGjPUuPMW7VYj0tlLStjZbczCU5bwc49ebfXbSL3ElOpbeEMP1ePCTT505T5OxkOqWhbaFESXUkszUkjPOLWZHmnYVuEolGl4gZTX5rcWntpU4s3CXZ0yLwW7oIzIlHYjMi0Fe2mwscYlCkmmo7ZYlVnOuZmwQ47jbUdlKbJSnPSmxF+aSSKxEQAUgAAAAtY67yOb0ZPPFdRA5ELWOu8jm9GTzxXUQLQXUX1/ScXrX2aIAABEocRYx8btexL3mF0adWsn9bq0xL5QZzWajMscNZ8Jn/8AIrdyuueTzfsKx9Gk0aZHOiihXk/2u582i0qVBJhhifmv0+whgD5uV1zyeb9hWDcrrnk837CsQsc7hzXc0W2Tx5PsIYA+bldc8nm/YVg3K655PN+wrCxzuHNdxbZPHk+whgIPm5XXPJ5v2FYNyuueTzfsKwsc7hzXcW2Tx5Psdb0nxPC9g31SEwZ1Ex5VYsNiPtOqatibSjO8Ir2K1/zB7bodV5GVP73wDyxzuHNdxbJPHk+w/gCBuh1XkZU/vfADdDqvIyp/e+ALHO4c13Fsk8eT7D+AIG6HVeRlT+98AN0Oq8jKn974Asc7hzXcWyTx5PsP4Ucpe8Sd89rrpFduh1XkZU/vfAKfE+KKtiKgP0xOFKkwbppPZDSpVrKI9WaXELSKLNhmwxNeSa+V3I0ilSo5UUML82n8Pscy1jx1N9sr3iCNDm5M65LmvyCizUk6s15vcSztceG5XXPJ5v2FY5mUSa420vniu53LpclQJN/HB9hDAHzcrrnk837CsG5XXPJ5v2FY4sc7hzXc7tsnjyfYQwB83K655PN+wrBuV1zyeb9hWFjncOa7i2yePJ9hDD1kb+Vqg+0d/CWP1uV1zyeb9hWL7BeDa1hLF9PrqqbOlJiKUo2SirQaroUnXY7a7jyxzuHNdxbZPHk+x1KWoAQN0OqcjKn974AbodV5GVP73wBY53Dmu4tknjyfYfwBA3Q6ryMqf3vgBuh1XkZU/vfAFjncOa7i2SePJ9h/AEDdDqvIyp/e+AG6HVeRlT+98AWOdw5ruLZJ48n2H8IOPd9GEOen1mx83Q6ryMqf3vgFPUqtVMT4kw84rDs+E3ElpUtS0KUVjUnTfNK1rC9Ho8yXM8UW7Y/lcH+yFIpMuZL8ML89q+HxX6NXAAA+efRAAAAAAAAAAAAAAAAAAAAAABm+VLB1Vxb3C3T2EONobdQ6ZukgyzjTa1/UY0gA7gjcEW1HMUPiWxnMu4NW/I/6xHYDcGrfkf8AWI7B00Ad13+Uc1f7ZzLuDVvyP+sR2A3Bq35H/WI7B00AK7/KFX+2czbg1c8j/rEdg+bg1b8j/rEdg6aAFd/lCr/bOZdwat+R/wBYjsBuDVvyP+sR2DpoAV3+UKv9s5qVkMriozbPcWhClKv3YjTe3o9A8twat+R/1iOwdNACu/yh4P2zmXcGrfkf9YjsBuDVvyP+sR2DpoAV3+UKv9s5l3Bq55H/AFiOwfdwaueR/wBYjsHTIArv8oVf7ZzLuDVvyP8ArEdgNwat+R/1iOwdNACu/wAoVf7ZzLuDVvyP+sR2DacnFAqGHMPvxKk0ht5UlTiSSsl+DmpLWXqMOIB5FNbh8OxI9UGx7doAAASOz//Z)"
   ]
  },
  {
   "cell_type": "code",
   "execution_count": null,
   "metadata": {
    "tags": []
   },
   "outputs": [],
   "source": [
    "# define down-sampler \n",
    "def pair_downsampler(img):\n",
    "    #img has shape B C H W\n",
    "    c = img.shape[1]\n",
    "\n",
    "    filter1 = torch.FloatTensor([[[[0 ,0.5],[0.5, 0]]]]).to(img.device)\n",
    "    filter1 = filter1.repeat(c,1, 1, 1)\n",
    "\n",
    "    filter2 = torch.FloatTensor([[[[0.5 ,0],[0, 0.5]]]]).to(img.device)\n",
    "    filter2 = filter2.repeat(c,1, 1, 1)\n",
    "\n",
    "    output1 = F.conv2d(img, filter1, stride=2, groups=c)\n",
    "    output2 = F.conv2d(img, filter2, stride=2, groups=c)\n",
    "\n",
    "    return output1, output2"
   ]
  },
  {
   "cell_type": "markdown",
   "metadata": {},
   "source": [
    "The **loss function** is the sum of a residual loss plus a consistency loss as follows:\n",
    "\n",
    "$$     \\mathcal{L}_\\mathrm{res.}(\\theta) =\\frac{1}{2}\\left( \\|D_1({y}) - f_{\\theta}(D_1({y})) - D_2({y})\\|_2^2 + \\|D_2({y}) - f_{\\theta}(D_2({y})) - D_1({y})\\|_2^2 \\right). $$\n",
    "\n",
    "$$     \\mathcal{L}_\\mathrm{cons.}(\\theta) = \\frac{1}{2} \\left( \\|f_{\\theta}(D_1({y})) - D_1(f_{\\theta}({y}))\\|_2^2 + \\|f_{\\theta}(D_2({y})) - D_2(f_{\\theta}({y}))\\|_2^2 \\right). $$\n",
    "\n",
    "$$ \\mathcal{L}(\\theta) = \\mathcal{L}_\\mathrm{res.}(\\theta) + \\mathcal{L}_\\mathrm{cons.}(\\theta), $$\n",
    "\n",
    "where $y$ is the noisy input image, $D$ is the image pair downsampler, and $f_\\theta$ is the network."
   ]
  },
  {
   "cell_type": "code",
   "execution_count": null,
   "metadata": {
    "tags": []
   },
   "outputs": [],
   "source": [
    "# mean square error \n",
    "def mse(gt: torch.Tensor, pred:torch.Tensor)-> torch.Tensor:\n",
    "    loss = torch.nn.MSELoss()\n",
    "    return loss(gt,pred)\n",
    "\n",
    "\n",
    "# loss function\n",
    "def loss_func(noisy_img):\n",
    "    noisy1, noisy2 = pair_downsampler(noisy_img)\n",
    "\n",
    "    pred1 =  noisy1 - model(noisy1)\n",
    "    pred2 =  noisy2 - model(noisy2)\n",
    "\n",
    "    loss_res = 1/2*(mse(noisy1,pred2)+mse(noisy2,pred1))\n",
    "\n",
    "    noisy_denoised =  noisy_img - model(noisy_img)\n",
    "    denoised1, denoised2 = pair_downsampler(noisy_denoised)\n",
    "\n",
    "    loss_cons=1/2*(mse(pred1,denoised1) + mse(pred2,denoised2))\n",
    "\n",
    "    loss = loss_res + loss_cons\n",
    "\n",
    "    return loss"
   ]
  },
  {
   "cell_type": "markdown",
   "metadata": {},
   "source": [
    "# 3. Example denoising\n",
    "\n",
    "gaussian 0.50 test\n",
    "\n",
    "| Max Epoch | Num Hidden Layers | PSNR       | SSIM   | MAE       | BRISQUE |\n",
    "|-----------|-------------------|------------|--------|-----------|---------|\n",
    "| 2000      | 2                 | 31.2335    | 0.5798 | 0.01108   | 155.845 |\n",
    "| **2000**      | **3**                 | 31.3068    | 0.5821 | 0.01083   | 155.845 |\n",
    "| 2000      | 4                 | 31.2262    | 0.5789 | 0.01076   | 155.845 |\n",
    "| 4000      | 2                 | 31.1647    | 0.5727 | 0.01100   | 155.845 |\n",
    "| **4000**     | **3**                 | 30.8310    | 0.5558 | 0.01137   | 155.845 |\n",
    "| 4000      | 4                 | 30.9221    | 0.5568 | 0.01114   | 155.845 |\n",
    "| 6000      | 2                 | 31.0026    | 0.5643 | 0.01113   | 155.845 |\n",
    "| **6000**      | **3**                 | 30.7387    | 0.5444 | 0.01145   | 155.845 |\n",
    "| 6000      | 4                 | 31.3118    | 0.5943 | 0.01199   | 155.845 |\n",
    "| 8000      | 2                 | 30.9544    | 0.5603 | 0.01127   | 155.845 |\n",
    "| 8000      | 3                 | 30.9203    | 0.5614 | 0.01132   | 155.845 |\n",
    "| **8000**      | **4**                 | 30.6344    | 0.5543 | 0.01165   | 155.845 |\n"
   ]
  },
  {
   "cell_type": "code",
   "execution_count": null,
   "metadata": {
    "tags": []
   },
   "outputs": [],
   "source": [
    "def train(model, optimizer, noisy_img):\n",
    "    loss = loss_func(noisy_img)\n",
    "    \n",
    "    optimizer.zero_grad()\n",
    "    loss.backward()\n",
    "    optimizer.step()\n",
    "    \n",
    "    return loss.item()\n",
    "\n",
    "def test(model, noisy_img, clean_img):\n",
    "\n",
    "    with torch.no_grad():\n",
    "        pred = torch.clamp(noisy_img - model(noisy_img),0,1)\n",
    "        MSE = mse(clean_img, pred).item()\n",
    "        PSNR = 10*np.log10(1/MSE)\n",
    "\n",
    "    return PSNR\n",
    "\n",
    "def denoise(model, noisy_img):\n",
    "\n",
    "    with torch.no_grad():\n",
    "        pred = torch.clamp( noisy_img - model(noisy_img),0,1)\n",
    "\n",
    "    return pred"
   ]
  },
  {
   "cell_type": "code",
   "execution_count": null,
   "metadata": {
    "tags": []
   },
   "outputs": [],
   "source": [
    "time_idx = 11\n",
    "depth_idx = 38\n",
    "\n",
    "test_noisy_img = val_tensor[time_idx, depth_idx].unsqueeze(0).to(device)\n",
    "\n",
    "print(f\"test_noisy_img: {test_noisy_img.shape} \")"
   ]
  },
  {
   "cell_type": "markdown",
   "metadata": {},
   "source": [
    "## downsampling example"
   ]
  },
  {
   "cell_type": "code",
   "execution_count": null,
   "metadata": {
    "tags": []
   },
   "outputs": [],
   "source": [
    "# down-sampler example\n",
    "img1, img2 = pair_downsampler(test_noisy_img)\n",
    "\n",
    "img0 = test_noisy_img.cpu().squeeze(0).permute(1,2,0)\n",
    "img1 = img1.cpu().squeeze(0).permute(1,2,0)\n",
    "img2 = img2.cpu().squeeze(0).permute(1,2,0)\n",
    "\n",
    "fig, ax = plt.subplots(1, 3,figsize=(15, 15))\n",
    "\n",
    "ax[0].imshow(img0, cmap='hot')\n",
    "ax[0].set_title('Noisy Img')\n",
    "\n",
    "ax[1].imshow(img1, cmap='hot')\n",
    "ax[1].set_title('First downsampled')\n",
    "\n",
    "ax[2].imshow(img2, cmap='hot')\n",
    "ax[2].set_title('Second downsampled')"
   ]
  },
  {
   "cell_type": "code",
   "execution_count": null,
   "metadata": {
    "tags": []
   },
   "outputs": [],
   "source": [
    "max_epoch = 4000     # training epochs\n",
    "lr = 0.001           # learning rate\n",
    "step_size = 1500     # number of epochs at which learning rate decays\n",
    "gamma = 0.7          # factor by which learning rate decays\n",
    "\n",
    "#\n",
    "model = CNN(n_chan=val_tensor.shape[2], chan_embed=48, num_hidden_layers=3).to(device)\n",
    "print(\"The number of parameters of the network is: \",  sum(p.numel() for p in model.parameters() if p.requires_grad))\n",
    "\n",
    "optimizer = optim.Adam(model.parameters(), lr=lr)\n",
    "scheduler = optim.lr_scheduler.StepLR(optimizer, step_size=step_size, gamma=gamma)\n",
    "\n",
    "#\n",
    "pbar = tqdm(range(max_epoch))\n",
    "for epoch in pbar:\n",
    "    loss = train(model, optimizer, test_noisy_img)\n",
    "    scheduler.step()\n",
    "    pbar.set_description(f\"Epoch {epoch+1}, Loss: {loss:.4f}\")"
   ]
  },
  {
   "cell_type": "code",
   "execution_count": null,
   "metadata": {
    "tags": []
   },
   "outputs": [],
   "source": [
    "# prediction\n",
    "test_denoised_img = denoise(model, test_noisy_img)\n",
    "\n",
    "#\n",
    "noisy = test_noisy_img.cpu().squeeze(0).permute(1,2,0).numpy()\n",
    "denoised = test_denoised_img.cpu().squeeze(0).permute(1,2,0).numpy()\n",
    "\n",
    "#\n",
    "print(f\"noisy: {noisy.shape} range:({np.min(noisy)}, {np.max(noisy)}); mean:{np.mean(noisy)}; std:{np.std(noisy)}\")\n",
    "print(f\"denoised: {denoised.shape} range:({np.min(denoised)}, {np.max(denoised)}); mean:{np.mean(denoised)}; std:{np.std(denoised)}\")\n",
    "\n",
    "#\n",
    "data_range_noisy = np.max(noisy) - np.min(noisy)\n",
    "data_range_denoised = np.max(denoised) - np.min(denoised)\n",
    "data_range = max(data_range_noisy, data_range_denoised)\n",
    "print(f\"data range: {data_range}\")\n",
    "\n",
    "psnr_values, ssim_values, mae_values, brisque_values = calculate_metrics(np.squeeze(noisy), np.squeeze(denoised), data_range=data_range)\n",
    "\n",
    "psnr_values[np.isinf(psnr_values)] = np.nan # set inf value to nan\n",
    "\n",
    "print(f\"PSNR: {np.nanmean(psnr_values)}; SSIM: {np.nanmean(ssim_values)}; MAE: {np.sum(mae_values)}; BRISQUE: {np.nanmean(brisque_values)}\")\n",
    "\n",
    " \n",
    "# \n",
    "fig, ax = plt.subplots(1, 3,figsize=(15, 15))\n",
    " \n",
    "ax[0].imshow(noisy, cmap='hot')\n",
    "ax[0].set_title('Noisy Img')\n",
    "\n",
    "\n",
    "ax[1].imshow(denoised, cmap='hot')\n",
    "ax[1].set_title('Denoised Img')\n",
    "\n",
    "ax[2].imshow(noisy - denoised, cmap='hot')\n",
    "ax[2].set_title('diff')"
   ]
  },
  {
   "cell_type": "markdown",
   "metadata": {},
   "source": [
    "# 4. Process denoising"
   ]
  },
  {
   "cell_type": "code",
   "execution_count": null,
   "metadata": {
    "tags": []
   },
   "outputs": [],
   "source": [
    "# hyperparameters\n",
    "max_epoch = 4000     # training epochs\n",
    "lr = 0.001           # learning rate\n",
    "step_size = 1500     # number of epochs at which learning rate decays\n",
    "gamma = 0.7          # factor by which learning rate decays\n",
    "\n",
    "\n",
    "# process denoising\n",
    "total_iterations = val_tensor.shape[0] * val_tensor.shape[1]\n",
    "pbar = tqdm(total=total_iterations, desc='Processing', ncols=total_iterations)\n",
    "\n",
    "denoised_tensor = torch.zeros_like(val_tensor).to(device) # Initialize the tensor to store denoised images\n",
    "start_time = time.time()\n",
    "for i in range(val_tensor.shape[0]):\n",
    "    for j in range(val_tensor.shape[1]):\n",
    "        # reset training modules \n",
    "        model = CNN(n_chan=val_tensor.shape[2], chan_embed=48, num_hidden_layers=3).to(device)\n",
    "        optimizer = optim.Adam(model.parameters(), lr=lr)\n",
    "        scheduler = optim.lr_scheduler.StepLR(optimizer, step_size=step_size, gamma=gamma)\n",
    "        # take out 2D image\n",
    "        sub_tensor = val_tensor[i, j].unsqueeze(0).to(device)\n",
    "        # zero-shot denosing\n",
    "        for epoch in range(max_epoch):\n",
    "            loss = train(model, optimizer, sub_tensor)\n",
    "            scheduler.step()\n",
    "            pbar.set_description(f\"Epoch {epoch+1}, Loss: {loss:.6f}\")\n",
    "                \n",
    "        denoised_sub_tensor = denoise(model, sub_tensor)\n",
    "        # place back\n",
    "        denoised_tensor[i, j] = denoised_sub_tensor.squeeze(0)\n",
    "        pbar.update(1)\n",
    "\n",
    "end_time = time.time()\n",
    "pbar.close()\n",
    "\n",
    "print(f\"Complete.....Running time: {end_time-start_time} seconds\")\n",
    "\n",
    "denoised_data = denoised_tensor.cpu().squeeze(2).numpy() # convert denoised tensor into ndarray \n",
    "print(f\"denoised_data: {denoised_data.shape} range:({np.min(denoised_data)},{np.max(denoised_data)}); mean:{np.mean(denoised_data)}; std:{np.std(denoised_data)}\")"
   ]
  },
  {
   "cell_type": "markdown",
   "metadata": {},
   "source": [
    "# 5. Evaluation"
   ]
  },
  {
   "cell_type": "markdown",
   "metadata": {},
   "source": [
    "## visuzlie check denoised result"
   ]
  },
  {
   "cell_type": "code",
   "execution_count": null,
   "metadata": {
    "tags": []
   },
   "outputs": [],
   "source": [
    "# visualize check\n",
    "time_idx = 11\n",
    "depth_idx = 38\n",
    "\n",
    "#\n",
    "noisy = noisy_data[time_idx, depth_idx]\n",
    "denoised = denoised_data[time_idx, depth_idx]\n",
    "\n",
    "#\n",
    "data_range_noisy = np.max(noisy) - np.min(noisy)\n",
    "data_range_denoised = np.max(denoised) - np.min(denoised)\n",
    "data_range = max(data_range_noisy, data_range_denoised)\n",
    "psnr_values, ssim_values, mae_values, brisque_values = calculate_metrics(denoised_data, noisy_data, data_range=data_range)\n",
    "psnr_values[np.isinf(psnr_values)] = np.nan # set inf value to nan\n",
    "print(f\"PSNR: {np.nanmean(psnr_values)}; SSIM: {np.nanmean(ssim_values)}; MAE: {np.sum(mae_values)}; BRISQUE: {np.nanmean(brisque_values)}\")\n",
    "\n",
    "#\n",
    "display_image_in_detail(noisy, title=\"example noisy\")\n",
    "display_image_in_detail(denoised, title=\"example denoised\")\n",
    "display_image_in_detail(noisy - denoised, title=\"diff\")\n",
    "\n",
    "\n",
    "# fig, ax = plt.subplots(1, 3,figsize=(15, 15))\n",
    " \n",
    "# ax[0].imshow(noisy, cmap='hot')\n",
    "# ax[0].set_title('Noisy Img')\n",
    "\n",
    "\n",
    "# ax[1].imshow(denoised, cmap='hot')\n",
    "# ax[1].set_title('Denoised Img')\n",
    "\n",
    "# ax[2].imshow(noisy - denoised, cmap='hot')\n",
    "# ax[2].set_title('diff')"
   ]
  },
  {
   "cell_type": "markdown",
   "metadata": {},
   "source": [
    "## calcualte metrics"
   ]
  },
  {
   "cell_type": "code",
   "execution_count": null,
   "metadata": {
    "tags": []
   },
   "outputs": [],
   "source": [
    "# metrics calculation\n",
    "print(f\"noisy_data: {noisy_data.shape} range:({np.min(noisy_data)}, {np.max(noisy_data)}; mean:{np.mean(noisy_data)}); std:{np.std(noisy_data)}\")\n",
    "print(f\"denoised_data: {denoised_data.shape} range:({np.min(denoised_data)}, {np.max(denoised_data)}; mean:{np.mean(denoised_data)}); std:{np.std(denoised_data)}\")\n",
    "\n",
    "#\n",
    "data_range_noisy = np.max(noisy_data) - np.min(noisy_data)\n",
    "data_range_denoised = np.max(denoised_data) - np.min(denoised_data)\n",
    "data_range = max(data_range_noisy, data_range_denoised)\n",
    "psnr_values, ssim_values, mae_values, brisque_values = calculate_metrics(denoised_data, noisy_data, data_range=data_range)\n",
    "psnr_values[np.isinf(psnr_values)] = np.nan # set inf value to nan\n",
    "print(f\"PSNR: {np.nanmean(psnr_values)}; SSIM: {np.nanmean(ssim_values)}; MAE: {np.sum(mae_values)}; BRISQUE: {np.nanmean(brisque_values)}\")"
   ]
  },
  {
   "cell_type": "markdown",
   "metadata": {
    "tags": []
   },
   "source": [
    "# 6.Save denormalized denoised data into 16-bit DICOM files"
   ]
  },
  {
   "cell_type": "code",
   "execution_count": null,
   "metadata": {
    "tags": []
   },
   "outputs": [],
   "source": [
    "# denormalized denoised data\n",
    "restored_data = restore_data(denoised_data, restore_info)\n",
    "print(f\"restore_data: {restored_data.dtype} shape:{restored_data.shape}; range:({np.min(restored_data)},{np.max(restored_data)}); mean:{np.mean(restored_data)}; std:{np.std(restored_data)}\")\n",
    "display_image_in_detail(restored_data[11, 38], title=\"restored denoised result\")"
   ]
  },
  {
   "cell_type": "code",
   "execution_count": null,
   "metadata": {
    "tags": []
   },
   "outputs": [],
   "source": [
    "# save denormalized denoised data as 16-bit gray-scale .DICOM files\n",
    "origin_dicom_folder = './dataset/10_05_2021_PET_only/PT_20p 150_120 OSEM'\n",
    "\n",
    "output_folder = './dataset/denoised/ZS-N2N/PT_20p 150_120 OSEM_poisson_0.50'\n",
    "\n",
    "save_4d_dicom(origin_dicom_folder, restored_data, output_folder)"
   ]
  }
 ],
 "metadata": {
  "kernelspec": {
   "display_name": "Python 3 (ipykernel)",
   "language": "python",
   "name": "python3"
  },
  "language_info": {
   "codemirror_mode": {
    "name": "ipython",
    "version": 3
   },
   "file_extension": ".py",
   "mimetype": "text/x-python",
   "name": "python",
   "nbconvert_exporter": "python",
   "pygments_lexer": "ipython3",
   "version": "3.11.4"
  }
 },
 "nbformat": 4,
 "nbformat_minor": 4
}
