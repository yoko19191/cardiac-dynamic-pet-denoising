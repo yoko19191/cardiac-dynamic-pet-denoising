{
 "cells": [
  {
   "cell_type": "code",
   "execution_count": 1,
   "metadata": {},
   "outputs": [
    {
     "name": "stdout",
     "output_type": "stream",
     "text": [
      "device: cuda:0\n"
     ]
    }
   ],
   "source": [
    "import os\n",
    "import copy\n",
    "import json\n",
    "import time\n",
    "\n",
    "import numpy as np\n",
    "import matplotlib.pyplot as plt\n",
    "\n",
    "from module.utils import calculate_metrics, display_image_in_detail, plot_2d_data, timer_decorator, display_4d_image, timer_decorator\n",
    "from module.datasets import load_4d_dicom, save_4d_dicom, restore_data, split_data\n",
    "\n",
    "from module.models import UNet2D\n",
    "from module.datasets import Nb2Nb2D_Dataset\n",
    "from module.loss import SSIMLoss, SSIM_MAELoss, SSIM_MSELoss\n",
    "\n",
    "\n",
    "\n",
    "import h5py\n",
    "from tqdm.notebook import tqdm\n",
    "\n",
    "\n",
    "import torch \n",
    "import torch.nn as nn\n",
    "import torch.optim as optim\n",
    "from torch.utils.data import Dataset, DataLoader, random_split, Subset\n",
    "\n",
    "from torchsummary import summary\n",
    "\n",
    "device = torch.device(\"cuda:0\" if torch.cuda.is_available() else \"mps\" if torch.backends.mps.is_available() else \"cpu\")\n",
    "print(f\"device: {device}\")\n",
    "\n",
    "%matplotlib tk"
   ]
  },
  {
   "cell_type": "code",
   "execution_count": 2,
   "metadata": {},
   "outputs": [
    {
     "name": "stdout",
     "output_type": "stream",
     "text": [
      "Noisy data...float32 (shape:(11, 24, 71, 192, 192); range:[0.0,1.0]; mean:0.5030226111412048); std:0.02147510275244713\n",
      "{'original_min': -32768.0, 'original_max': 32767.0, 'z_score_mean': 201.4710693359375, 'z_score_std_dev': 1407.2664794921875, 'noise_min': 0.0, 'noise_max': 1.0}\n"
     ]
    }
   ],
   "source": [
    "# load noisy data\n",
    "with h5py.File('./dataset/preprocessed/PT_20p 150_120 OSEM_real_0.00_batch.h5', 'r') as f:\n",
    "    noisy_data = f['dataset'][...]\n",
    "    restore_info = json.loads(f['restore_info'][()])\n",
    "    \n",
    "print(f\"Noisy data...{noisy_data.dtype} (shape:{noisy_data.shape}; range:[{np.min(noisy_data)},{np.max(noisy_data)}]; mean:{np.mean(noisy_data)}); std:{np.std(noisy_data)}\")\n",
    "\n",
    "print(restore_info)\n"
   ]
  },
  {
   "cell_type": "code",
   "execution_count": 3,
   "metadata": {},
   "outputs": [],
   "source": [
    "noisy_tensor = torch.tensor(noisy_data[..., np.newaxis, :, :, :], dtype=torch.float32) "
   ]
  },
  {
   "cell_type": "code",
   "execution_count": 4,
   "metadata": {},
   "outputs": [],
   "source": [
    "#\n",
    "time_idx = 11\n",
    "depth_idx = 38\n",
    "\n",
    "#\n",
    "top = noisy_tensor[0, time_idx, :, depth_idx-1]\n",
    "middle = noisy_tensor[0, time_idx, :, depth_idx]\n",
    "bottom = noisy_tensor[0, time_idx, :, depth_idx+1]\n"
   ]
  },
  {
   "cell_type": "code",
   "execution_count": 5,
   "metadata": {},
   "outputs": [],
   "source": [
    "def random_neighbor_subsample(tensor, k=2):\n",
    "    \"\"\"\n",
    "    Perform random neighbor sub-sampling on a batch tensor.\n",
    "\n",
    "    This function randomly selects two neighboring cells from kxk patches\n",
    "    in the given tensor.\n",
    "\n",
    "    Args:\n",
    "        tensor (torch.Tensor): Input tensor of shape [batch, channels, height, width].\n",
    "        k (int, optional): The size of the cell for sub-sampling. Defaults to 2.\n",
    "\n",
    "    Returns:\n",
    "        tuple: Two sub-sampled tensors (g1, g2) each of shape [batch, channels, height//k, width//k].\n",
    "    \"\"\"\n",
    "    B, C, H, W = tensor.shape\n",
    "    unfolded = tensor.unfold(2, k, k).unfold(3, k, k)\n",
    "    unfolded = unfolded.contiguous().view(B, C, H//k, W//k, k*k)\n",
    "    \n",
    "    idx1, idx2 = torch.randperm(k*k)[:2].to(tensor.device)\n",
    "    \n",
    "    g1 = unfolded[..., idx1].squeeze(-1)\n",
    "    g2 = unfolded[..., idx2].squeeze(-1)\n",
    "    \n",
    "    return g1, g2\n"
   ]
  },
  {
   "cell_type": "code",
   "execution_count": 14,
   "metadata": {},
   "outputs": [],
   "source": [
    "g1_top, g2_top = random_neighbor_subsample(top.unsqueeze(0))\n",
    "g1_middle, g2_middle = random_neighbor_subsample(middle.unsqueeze(0))\n",
    "g1_bottom, g2_bottom = random_neighbor_subsample(bottom.unsqueeze(0))"
   ]
  },
  {
   "cell_type": "code",
   "execution_count": 34,
   "metadata": {},
   "outputs": [],
   "source": [
    "#plt.imshow(g2_bottom.squeeze(0, 1).numpy(), cmap='hot')\n",
    "plt.imshow(bottom.squeeze(0).numpy(), cmap='hot')\n",
    "\n",
    "plt.axis('off')\n",
    "\n",
    "plt.subplots_adjust(left=0, right=1, top=1, bottom=0, hspace=0, wspace=0)\n",
    "plt.margins(0,0)\n",
    "plt.gca().xaxis.set_major_locator(plt.NullLocator())\n",
    "plt.gca().yaxis.set_major_locator(plt.NullLocator())\n",
    "plt.savefig('bottom.png', bbox_inches='tight', pad_inches=0)"
   ]
  }
 ],
 "metadata": {
  "kernelspec": {
   "display_name": ".env",
   "language": "python",
   "name": "python3"
  },
  "language_info": {
   "codemirror_mode": {
    "name": "ipython",
    "version": 3
   },
   "file_extension": ".py",
   "mimetype": "text/x-python",
   "name": "python",
   "nbconvert_exporter": "python",
   "pygments_lexer": "ipython3",
   "version": "3.11.4"
  },
  "orig_nbformat": 4
 },
 "nbformat": 4,
 "nbformat_minor": 2
}
